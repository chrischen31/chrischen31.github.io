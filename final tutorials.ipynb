{
 "cells": [
  {
   "cell_type": "markdown",
   "id": "7f43ffb4",
   "metadata": {},
   "source": [
    "# Analyzing Global Suicide Data From Different Factors\n",
    "\n",
    "Zhiqiang"
   ]
  },
  {
   "cell_type": "markdown",
   "id": "f63f4828",
   "metadata": {},
   "source": [
    "## Overview\n",
    "\n",
    "Suicide is a serious healthy problem that will cause people dead. According to the description from Wikipedia, suicides causes 828,000 people to end their life worldwide in 2015 and now is the 10th leading cause of death. . It is important to be aware of increasing suicide rate in the world in order to save the life of people. From that, this tutorial introduces a deep analysis on homicide reports in the US from 1980 to 2014. In this final tutorials, we will collect data and parse it at begining, then processing and visualize it. Finally, it will create linear regression model to process the analysis and verify the hypotheses implied from it. my purpose is to discover which factors will biggest reasons that cause people to suicide in this dataset."
   ]
  },
  {
   "cell_type": "markdown",
   "id": "60a606a1",
   "metadata": {},
   "source": [
    "## Required Tools\n",
    "\n",
    "I recommend using Jupyter Notebook since it is a python complier and with lots of good application for data analysis. You will also need to following libraries:\n",
    "\n",
    "pandas\n",
    "numpy\n",
    "scikit-learn\n",
    "matplotlib\n",
    "folium\n",
    "\n",
    "For the dataset, the homicide reports data can be retrived at https://www.kaggle.com/datasets/russellyates88/suicide-rates-overview-1985-to-2016\n",
    "\n"
   ]
  },
  {
   "cell_type": "markdown",
   "id": "588f776a",
   "metadata": {},
   "source": [
    "## Part 1: Data Preparation"
   ]
  },
  {
   "cell_type": "code",
   "execution_count": 448,
   "id": "d2bf5669",
   "metadata": {},
   "outputs": [],
   "source": [
    "#import and install necessary packages\n",
    "import pandas as pd \n",
    "import numpy as np\n",
    "import matplotlib.pyplot as plt\n",
    "import plotly.graph_objects as go\n",
    "import plotly\n",
    "from sklearn import preprocessing\n",
    "import warnings\n",
    "import statsmodels.formula.api as smf\n",
    "import statsmodels.api as sm\n",
    "import re\n",
    "from numpy import nan\n",
    "from itertools import islice\n",
    "warnings.filterwarnings('ignore')\n",
    "from statsmodels.formula.api import ols\n"
   ]
  },
  {
   "cell_type": "code",
   "execution_count": 455,
   "id": "991dda00",
   "metadata": {},
   "outputs": [
    {
     "data": {
      "text/html": [
       "<div>\n",
       "<style scoped>\n",
       "    .dataframe tbody tr th:only-of-type {\n",
       "        vertical-align: middle;\n",
       "    }\n",
       "\n",
       "    .dataframe tbody tr th {\n",
       "        vertical-align: top;\n",
       "    }\n",
       "\n",
       "    .dataframe thead th {\n",
       "        text-align: right;\n",
       "    }\n",
       "</style>\n",
       "<table border=\"1\" class=\"dataframe\">\n",
       "  <thead>\n",
       "    <tr style=\"text-align: right;\">\n",
       "      <th></th>\n",
       "      <th>country</th>\n",
       "      <th>year</th>\n",
       "      <th>sex</th>\n",
       "      <th>age</th>\n",
       "      <th>suicides_no</th>\n",
       "      <th>population</th>\n",
       "      <th>suicides/100k pop</th>\n",
       "      <th>country-year</th>\n",
       "      <th>HDI for year</th>\n",
       "      <th>gdp_for_year ($)</th>\n",
       "      <th>gdp_per_capita ($)</th>\n",
       "      <th>generation</th>\n",
       "    </tr>\n",
       "  </thead>\n",
       "  <tbody>\n",
       "    <tr>\n",
       "      <th>0</th>\n",
       "      <td>Albania</td>\n",
       "      <td>1987</td>\n",
       "      <td>male</td>\n",
       "      <td>15-24 years</td>\n",
       "      <td>21</td>\n",
       "      <td>312900</td>\n",
       "      <td>6.71</td>\n",
       "      <td>Albania1987</td>\n",
       "      <td>NaN</td>\n",
       "      <td>2,156,624,900</td>\n",
       "      <td>796</td>\n",
       "      <td>Generation X</td>\n",
       "    </tr>\n",
       "    <tr>\n",
       "      <th>1</th>\n",
       "      <td>Albania</td>\n",
       "      <td>1987</td>\n",
       "      <td>male</td>\n",
       "      <td>35-54 years</td>\n",
       "      <td>16</td>\n",
       "      <td>308000</td>\n",
       "      <td>5.19</td>\n",
       "      <td>Albania1987</td>\n",
       "      <td>NaN</td>\n",
       "      <td>2,156,624,900</td>\n",
       "      <td>796</td>\n",
       "      <td>Silent</td>\n",
       "    </tr>\n",
       "    <tr>\n",
       "      <th>2</th>\n",
       "      <td>Albania</td>\n",
       "      <td>1987</td>\n",
       "      <td>female</td>\n",
       "      <td>15-24 years</td>\n",
       "      <td>14</td>\n",
       "      <td>289700</td>\n",
       "      <td>4.83</td>\n",
       "      <td>Albania1987</td>\n",
       "      <td>NaN</td>\n",
       "      <td>2,156,624,900</td>\n",
       "      <td>796</td>\n",
       "      <td>Generation X</td>\n",
       "    </tr>\n",
       "    <tr>\n",
       "      <th>3</th>\n",
       "      <td>Albania</td>\n",
       "      <td>1987</td>\n",
       "      <td>male</td>\n",
       "      <td>75+ years</td>\n",
       "      <td>1</td>\n",
       "      <td>21800</td>\n",
       "      <td>4.59</td>\n",
       "      <td>Albania1987</td>\n",
       "      <td>NaN</td>\n",
       "      <td>2,156,624,900</td>\n",
       "      <td>796</td>\n",
       "      <td>G.I. Generation</td>\n",
       "    </tr>\n",
       "    <tr>\n",
       "      <th>4</th>\n",
       "      <td>Albania</td>\n",
       "      <td>1987</td>\n",
       "      <td>male</td>\n",
       "      <td>25-34 years</td>\n",
       "      <td>9</td>\n",
       "      <td>274300</td>\n",
       "      <td>3.28</td>\n",
       "      <td>Albania1987</td>\n",
       "      <td>NaN</td>\n",
       "      <td>2,156,624,900</td>\n",
       "      <td>796</td>\n",
       "      <td>Boomers</td>\n",
       "    </tr>\n",
       "    <tr>\n",
       "      <th>...</th>\n",
       "      <td>...</td>\n",
       "      <td>...</td>\n",
       "      <td>...</td>\n",
       "      <td>...</td>\n",
       "      <td>...</td>\n",
       "      <td>...</td>\n",
       "      <td>...</td>\n",
       "      <td>...</td>\n",
       "      <td>...</td>\n",
       "      <td>...</td>\n",
       "      <td>...</td>\n",
       "      <td>...</td>\n",
       "    </tr>\n",
       "    <tr>\n",
       "      <th>27815</th>\n",
       "      <td>Uzbekistan</td>\n",
       "      <td>2014</td>\n",
       "      <td>female</td>\n",
       "      <td>35-54 years</td>\n",
       "      <td>107</td>\n",
       "      <td>3620833</td>\n",
       "      <td>2.96</td>\n",
       "      <td>Uzbekistan2014</td>\n",
       "      <td>0.675</td>\n",
       "      <td>63,067,077,179</td>\n",
       "      <td>2309</td>\n",
       "      <td>Generation X</td>\n",
       "    </tr>\n",
       "    <tr>\n",
       "      <th>27816</th>\n",
       "      <td>Uzbekistan</td>\n",
       "      <td>2014</td>\n",
       "      <td>female</td>\n",
       "      <td>75+ years</td>\n",
       "      <td>9</td>\n",
       "      <td>348465</td>\n",
       "      <td>2.58</td>\n",
       "      <td>Uzbekistan2014</td>\n",
       "      <td>0.675</td>\n",
       "      <td>63,067,077,179</td>\n",
       "      <td>2309</td>\n",
       "      <td>Silent</td>\n",
       "    </tr>\n",
       "    <tr>\n",
       "      <th>27817</th>\n",
       "      <td>Uzbekistan</td>\n",
       "      <td>2014</td>\n",
       "      <td>male</td>\n",
       "      <td>5-14 years</td>\n",
       "      <td>60</td>\n",
       "      <td>2762158</td>\n",
       "      <td>2.17</td>\n",
       "      <td>Uzbekistan2014</td>\n",
       "      <td>0.675</td>\n",
       "      <td>63,067,077,179</td>\n",
       "      <td>2309</td>\n",
       "      <td>Generation Z</td>\n",
       "    </tr>\n",
       "    <tr>\n",
       "      <th>27818</th>\n",
       "      <td>Uzbekistan</td>\n",
       "      <td>2014</td>\n",
       "      <td>female</td>\n",
       "      <td>5-14 years</td>\n",
       "      <td>44</td>\n",
       "      <td>2631600</td>\n",
       "      <td>1.67</td>\n",
       "      <td>Uzbekistan2014</td>\n",
       "      <td>0.675</td>\n",
       "      <td>63,067,077,179</td>\n",
       "      <td>2309</td>\n",
       "      <td>Generation Z</td>\n",
       "    </tr>\n",
       "    <tr>\n",
       "      <th>27819</th>\n",
       "      <td>Uzbekistan</td>\n",
       "      <td>2014</td>\n",
       "      <td>female</td>\n",
       "      <td>55-74 years</td>\n",
       "      <td>21</td>\n",
       "      <td>1438935</td>\n",
       "      <td>1.46</td>\n",
       "      <td>Uzbekistan2014</td>\n",
       "      <td>0.675</td>\n",
       "      <td>63,067,077,179</td>\n",
       "      <td>2309</td>\n",
       "      <td>Boomers</td>\n",
       "    </tr>\n",
       "  </tbody>\n",
       "</table>\n",
       "<p>27820 rows × 12 columns</p>\n",
       "</div>"
      ],
      "text/plain": [
       "          country  year     sex          age  suicides_no  population  \\\n",
       "0         Albania  1987    male  15-24 years           21      312900   \n",
       "1         Albania  1987    male  35-54 years           16      308000   \n",
       "2         Albania  1987  female  15-24 years           14      289700   \n",
       "3         Albania  1987    male    75+ years            1       21800   \n",
       "4         Albania  1987    male  25-34 years            9      274300   \n",
       "...           ...   ...     ...          ...          ...         ...   \n",
       "27815  Uzbekistan  2014  female  35-54 years          107     3620833   \n",
       "27816  Uzbekistan  2014  female    75+ years            9      348465   \n",
       "27817  Uzbekistan  2014    male   5-14 years           60     2762158   \n",
       "27818  Uzbekistan  2014  female   5-14 years           44     2631600   \n",
       "27819  Uzbekistan  2014  female  55-74 years           21     1438935   \n",
       "\n",
       "       suicides/100k pop    country-year  HDI for year  gdp_for_year ($)   \\\n",
       "0                   6.71     Albania1987           NaN      2,156,624,900   \n",
       "1                   5.19     Albania1987           NaN      2,156,624,900   \n",
       "2                   4.83     Albania1987           NaN      2,156,624,900   \n",
       "3                   4.59     Albania1987           NaN      2,156,624,900   \n",
       "4                   3.28     Albania1987           NaN      2,156,624,900   \n",
       "...                  ...             ...           ...                ...   \n",
       "27815               2.96  Uzbekistan2014         0.675     63,067,077,179   \n",
       "27816               2.58  Uzbekistan2014         0.675     63,067,077,179   \n",
       "27817               2.17  Uzbekistan2014         0.675     63,067,077,179   \n",
       "27818               1.67  Uzbekistan2014         0.675     63,067,077,179   \n",
       "27819               1.46  Uzbekistan2014         0.675     63,067,077,179   \n",
       "\n",
       "       gdp_per_capita ($)       generation  \n",
       "0                     796     Generation X  \n",
       "1                     796           Silent  \n",
       "2                     796     Generation X  \n",
       "3                     796  G.I. Generation  \n",
       "4                     796          Boomers  \n",
       "...                   ...              ...  \n",
       "27815                2309     Generation X  \n",
       "27816                2309           Silent  \n",
       "27817                2309     Generation Z  \n",
       "27818                2309     Generation Z  \n",
       "27819                2309          Boomers  \n",
       "\n",
       "[27820 rows x 12 columns]"
      ]
     },
     "execution_count": 455,
     "metadata": {},
     "output_type": "execute_result"
    }
   ],
   "source": [
    "data=pd.read_csv(\"master.csv\")\n",
    "data.columns\n",
    "data"
   ]
  },
  {
   "cell_type": "markdown",
   "id": "dad44dad",
   "metadata": {},
   "source": [
    "We first get the data from local csv file downloaded from kaggle.\n",
    "This cvs file will cover:\n",
    "1.country\n",
    "2.year\n",
    "3.sex\n",
    "4.age\n",
    "5.suicides_no\n",
    "6.population\n",
    "7.suicides/100k pop\n",
    "8.country-year\n",
    "9.HDI for year\n",
    "10.gdp_for_year\n",
    "11.gdp_per_capita\n",
    "12.generation\n",
    "\n",
    "we will mainly focus on country, year, sex, age, suicide_no, suicides/100k pop, and gdp_for_year"
   ]
  },
  {
   "cell_type": "markdown",
   "id": "015a6f09",
   "metadata": {},
   "source": [
    "## Data Tidying\n",
    "In this step, we will drop and remove the elements that we do not use on analysis such as country_year, HDI for year and generation. In addition, we also will rename the complex columns name to make it use for rest parts. "
   ]
  },
  {
   "cell_type": "code",
   "execution_count": 456,
   "id": "a285b0e1",
   "metadata": {},
   "outputs": [
    {
     "data": {
      "text/html": [
       "<div>\n",
       "<style scoped>\n",
       "    .dataframe tbody tr th:only-of-type {\n",
       "        vertical-align: middle;\n",
       "    }\n",
       "\n",
       "    .dataframe tbody tr th {\n",
       "        vertical-align: top;\n",
       "    }\n",
       "\n",
       "    .dataframe thead th {\n",
       "        text-align: right;\n",
       "    }\n",
       "</style>\n",
       "<table border=\"1\" class=\"dataframe\">\n",
       "  <thead>\n",
       "    <tr style=\"text-align: right;\">\n",
       "      <th></th>\n",
       "      <th>country</th>\n",
       "      <th>year</th>\n",
       "      <th>sex</th>\n",
       "      <th>age</th>\n",
       "      <th>suicides_no</th>\n",
       "      <th>population</th>\n",
       "      <th>suicide_rate</th>\n",
       "      <th>gdp_per_year</th>\n",
       "      <th>gdp_per_capita ($)</th>\n",
       "    </tr>\n",
       "  </thead>\n",
       "  <tbody>\n",
       "    <tr>\n",
       "      <th>0</th>\n",
       "      <td>Albania</td>\n",
       "      <td>1987</td>\n",
       "      <td>male</td>\n",
       "      <td>15-24 years</td>\n",
       "      <td>21</td>\n",
       "      <td>312900</td>\n",
       "      <td>6.71</td>\n",
       "      <td>2.156625e+09</td>\n",
       "      <td>796</td>\n",
       "    </tr>\n",
       "    <tr>\n",
       "      <th>1</th>\n",
       "      <td>Albania</td>\n",
       "      <td>1987</td>\n",
       "      <td>male</td>\n",
       "      <td>35-54 years</td>\n",
       "      <td>16</td>\n",
       "      <td>308000</td>\n",
       "      <td>5.19</td>\n",
       "      <td>2.156625e+09</td>\n",
       "      <td>796</td>\n",
       "    </tr>\n",
       "    <tr>\n",
       "      <th>2</th>\n",
       "      <td>Albania</td>\n",
       "      <td>1987</td>\n",
       "      <td>female</td>\n",
       "      <td>15-24 years</td>\n",
       "      <td>14</td>\n",
       "      <td>289700</td>\n",
       "      <td>4.83</td>\n",
       "      <td>2.156625e+09</td>\n",
       "      <td>796</td>\n",
       "    </tr>\n",
       "    <tr>\n",
       "      <th>3</th>\n",
       "      <td>Albania</td>\n",
       "      <td>1987</td>\n",
       "      <td>male</td>\n",
       "      <td>75+ years</td>\n",
       "      <td>1</td>\n",
       "      <td>21800</td>\n",
       "      <td>4.59</td>\n",
       "      <td>2.156625e+09</td>\n",
       "      <td>796</td>\n",
       "    </tr>\n",
       "    <tr>\n",
       "      <th>4</th>\n",
       "      <td>Albania</td>\n",
       "      <td>1987</td>\n",
       "      <td>male</td>\n",
       "      <td>25-34 years</td>\n",
       "      <td>9</td>\n",
       "      <td>274300</td>\n",
       "      <td>3.28</td>\n",
       "      <td>2.156625e+09</td>\n",
       "      <td>796</td>\n",
       "    </tr>\n",
       "  </tbody>\n",
       "</table>\n",
       "</div>"
      ],
      "text/plain": [
       "   country  year     sex          age  suicides_no  population  suicide_rate  \\\n",
       "0  Albania  1987    male  15-24 years           21      312900          6.71   \n",
       "1  Albania  1987    male  35-54 years           16      308000          5.19   \n",
       "2  Albania  1987  female  15-24 years           14      289700          4.83   \n",
       "3  Albania  1987    male    75+ years            1       21800          4.59   \n",
       "4  Albania  1987    male  25-34 years            9      274300          3.28   \n",
       "\n",
       "   gdp_per_year  gdp_per_capita ($)  \n",
       "0  2.156625e+09                 796  \n",
       "1  2.156625e+09                 796  \n",
       "2  2.156625e+09                 796  \n",
       "3  2.156625e+09                 796  \n",
       "4  2.156625e+09                 796  "
      ]
     },
     "execution_count": 456,
     "metadata": {},
     "output_type": "execute_result"
    }
   ],
   "source": [
    "data=data[data['year']!=2016]\n",
    "data = data.drop('country-year', 1)\n",
    "data = data.drop('HDI for year', 1)\n",
    "data = data.drop('generation', 1)\n",
    "data.rename({\"suicides/100k pop\": \"suicide_rate\"}, axis=1, inplace=True)\n",
    "data.rename({\" gdp_for_year ($) \": \"gdp_per_year\"}, axis=1, inplace=True)\n",
    "data['gdp_per_year'] = data['gdp_per_year'].str.replace(\",\",\"\").astype(float)\n",
    "data.head()"
   ]
  },
  {
   "cell_type": "markdown",
   "id": "330a6d44",
   "metadata": {},
   "source": [
    "## Part 2: Data Analysis and Visualization\n",
    "At this point, our data is ready to analyze. In this part, we would like to visualize the data we just reselect and map in order to portray and explain the trend of suicide to the audience. Also, statistical measurement for this data is included as well."
   ]
  },
  {
   "cell_type": "markdown",
   "id": "30d2d63d",
   "metadata": {},
   "source": [
    "### 2.1 Suicide By Year\n",
    "Let us see how many suicide happened in every years. Now, we want to introduce how suicide distribute different years with visualization."
   ]
  },
  {
   "cell_type": "code",
   "execution_count": 457,
   "id": "5b31eef9",
   "metadata": {},
   "outputs": [
    {
     "data": {
      "image/png": "[encoded data removed]",
      "text/plain": [
       "<Figure size 1600x1000 with 1 Axes>"
      ]
     },
     "metadata": {},
     "output_type": "display_data"
    }
   ],
   "source": [
    "\n",
    "data2=data.groupby(\"year\").sum()\n",
    "size = len(np.unique(data['age']))\n",
    "data2['suicide_rate'] = data2['suicide_rate'] / float(size)\n",
    "data2=data2.drop(columns=['population','suicides_no','gdp_per_capita ($)','gdp_per_year'])\n",
    "graph=data2.plot(y='suicide_rate',figsize=(16,10),color=\"red\",linewidth=3)\n",
    "xlabel=graph.set_xlabel('year')\n",
    "ylabel=graph.set_ylabel('suicide rate per 100 thousand population')\n",
    "title=graph.set_title('suicide rate per 100 thousand population vs. year')"
   ]
  },
  {
   "cell_type": "markdown",
   "id": "5e23162b",
   "metadata": {},
   "source": [
    "From the chart, we can see that suicide rate reached a peak around 1995 and then has been decreasing gradually."
   ]
  },
  {
   "cell_type": "markdown",
   "id": "07a725ad",
   "metadata": {},
   "source": [
    "### 2.2 Suicide by Gender\n",
    "Let us see how many suicide happened in different gender. Now, we want to introduce how suicide distribute different gender periods with visualization."
   ]
  },
  {
   "cell_type": "code",
   "execution_count": 458,
   "id": "b091a045",
   "metadata": {},
   "outputs": [
    {
     "name": "stdout",
     "output_type": "stream",
     "text": [
      "We can see that  5176811  male was suicided, and 1556006  female was suicided.\n"
     ]
    },
    {
     "data": {
      "text/plain": [
       "(-1.177184262796714,\n",
       " 1.1658566581523724,\n",
       " -1.1873359194869284,\n",
       " 1.182500375682236)"
      ]
     },
     "execution_count": 458,
     "metadata": {},
     "output_type": "execute_result"
    },
    {
     "data": {
      "image/png": "[encoded data removed]",
      "text/plain": [
       "<Figure size 640x480 with 1 Axes>"
      ]
     },
     "metadata": {},
     "output_type": "display_data"
    }
   ],
   "source": [
    "data3=data.groupby([\"sex\",\"year\"]).sum()\n",
    "data3 = data3.reset_index()\n",
    "msuicide = data3[data3['sex']== 'male'].sum().suicides_no                                                     \n",
    "fsuicide = data3[data3['sex']== 'female'].sum().suicides_no     \n",
    "print(\"We can see that \", msuicide , \" male was suicided, and\", \n",
    "      fsuicide, \" female was suicided.\")\n",
    "colors=[\"red\",\"blue\"]\n",
    "\n",
    "# plot pie with gender\n",
    "labels= ['% of male', '% female']\n",
    "sizes = [msuicide, fsuicide]\n",
    "ax = plt.subplot(1,2,1)\n",
    "plt.pie(sizes,labels=labels, colors=colors, startangle=90, shadow=True,explode=(0.1, 0.1), autopct='%1.2f%%', \n",
    "        textprops={'fontsize': 18}, labeldistance= 0.15)\n",
    "plt.title('Percentage of people suicide with different gender', fontsize = '20')\n",
    "plt.axis('equal')"
   ]
  },
  {
   "cell_type": "markdown",
   "id": "5bc39f11",
   "metadata": {},
   "source": [
    "From the chart, we will see the male suicide rate will be much higher than female. More male population tend to suicide compare to female."
   ]
  },
  {
   "cell_type": "markdown",
   "id": "47512c81",
   "metadata": {},
   "source": [
    "### 2.3 Suicide by age\n",
    "\n",
    "Let us see how many suicide happened in every age period. Now, we want to introduce how suicide distribute different age periods with visualization."
   ]
  },
  {
   "cell_type": "code",
   "execution_count": 459,
   "id": "c9db6ff3",
   "metadata": {},
   "outputs": [
    {
     "data": {
      "image/png": "[encoded data removed]",
      "text/plain": [
       "<Figure size 1600x1000 with 1 Axes>"
      ]
     },
     "metadata": {},
     "output_type": "display_data"
    }
   ],
   "source": [
    "colors=[\"red\",\"blue\",\"green\",\"grey\",\"black\",\"orange\"]\n",
    "data4 =data.groupby([\"age\",\"year\"]).sum()\n",
    "size = len(np.unique(data['age']))\n",
    "data4['suicide_rate'] = data4['suicide_rate'] / float(size)\n",
    "data4=data4.reset_index()\n",
    "i=4\n",
    "#make sure the order is correct\n",
    "fig, ax = plt.subplots(figsize=(16,10))\n",
    "for key, grp in df4.groupby(['age']):\n",
    "    if(key==\"5-14 years\"):\n",
    "        tempgroup=grp\n",
    "ax = tempgroup.plot(ax=ax, kind='line', x='year', y='suicide_rate', label=\"5-14 years\", color=colors[5],linewidth=3) \n",
    "for key, grp in df4.groupby(['age']):\n",
    "    if(key!=\"5-14 years\"):\n",
    "        ax = grp.plot(ax=ax, kind='line', x='year', y='suicide_rate', label=key, color=colors[i],linewidth=3)\n",
    "        i=i-1\n",
    "    \n",
    "        \n",
    "plt.title('suicide rate per 100k population vs. time')\n",
    "plt.xlabel('year')\n",
    "plt.ylabel('suicides rate per 100k population')\n",
    "plt.show()"
   ]
  },
  {
   "cell_type": "markdown",
   "id": "acb65dc2",
   "metadata": {},
   "source": [
    "From the chart, we can see people who have old ages more likely to suicide. The population with age period 75+ have highest rate of suicide."
   ]
  },
  {
   "cell_type": "markdown",
   "id": "f4f0d1a2",
   "metadata": {},
   "source": [
    "### 2.4 Homicide By State"
   ]
  },
  {
   "cell_type": "markdown",
   "id": "daf126f4",
   "metadata": {},
   "source": [
    "Let us see how many suicide happened in each country in the world. Now, we want to introduce how suicide distribute in the world with visualization.\n",
    "\n"
   ]
  },
  {
   "cell_type": "code",
   "execution_count": 460,
   "id": "4bcef5bc",
   "metadata": {},
   "outputs": [
    {
     "data": {
      "text/plain": [
       "Text(0.5, 1.0, 'country Vs Number of suicides')"
      ]
     },
     "execution_count": 460,
     "metadata": {},
     "output_type": "execute_result"
    },
    {
     "data": {
      "image/png": "[encoded data removed]",
      "text/plain": [
       "<Figure size 1200x1600 with 1 Axes>"
      ]
     },
     "metadata": {},
     "output_type": "display_data"
    }
   ],
   "source": [
    "data6=data.groupby([\"country\"]).mean()\n",
    "data6=data6.reset_index()\n",
    "sort_data= data6.sort_values(\"suicide_rate\", ascending=False)\n",
    "\n",
    "plt.figure(figsize=(15, 20), dpi=80);\n",
    "#Convert the State column to a numpy array\n",
    "y_pos = np.arange(len(sort_data['country']))\n",
    "#Put the data into the plot\n",
    "plt.barh(y_pos, sort_data['suicide_rate'], align='center')\n",
    "#Label y-axis\n",
    "plt.yticks(y_pos, sort_data['country'])\n",
    "#Label x-axis\n",
    "plt.xlabel('suicides/100k pop')\n",
    "#Create title of the plot\n",
    "plt.title('country Vs Number of suicides', fontsize= 20)"
   ]
  },
  {
   "cell_type": "markdown",
   "id": "f6fb0109",
   "metadata": {},
   "source": [
    "From this bar chart, we can see that suicides rate differ between different countries. Overall, Lithuania, Sri Lanka, and Russian Federation have the highest suicides rate, and Jamaica, Sanit Kits and Nevis, and Dominica have the lowest suicides rate. Now we want to use a world map to provide audience a clear view."
   ]
  },
  {
   "cell_type": "code",
   "execution_count": 461,
   "id": "ca0fbaac",
   "metadata": {},
   "outputs": [
    {
     "data": {
      "application/vnd.plotly.v1+json": {
       "config": {
        "plotlyServerURL": "https://plot.ly"
       },
       "data": [
        {
         "colorbar": {
          "title": {
           "text": "suicides/100 thousand population"
          }
         },
         "colorscale": [
          [
           0,
           "rgb(255,255,229)"
          ],
          [
           0.125,
           "rgb(247,252,185)"
          ],
          [
           0.25,
           "rgb(217,240,163)"
          ],
          [
           0.375,
           "rgb(173,221,142)"
          ],
          [
           0.5,
           "rgb(120,198,121)"
          ],
          [
           0.625,
           "rgb(65,171,93)"
          ],
          [
           0.75,
           "rgb(35,132,67)"
          ],
          [
           0.875,
           "rgb(0,104,55)"
          ],
          [
           1,
           "rgb(0,69,41)"
          ]
         ],
         "locationmode": "country names",
         "locations": [
          "Albania",
          "Antigua and Barbuda",
          "Argentina",
          "Armenia",
          "Aruba",
          "Australia",
          "Austria",
          "Azerbaijan",
          "Bahamas",
          "Bahrain",
          "Barbados",
          "Belarus",
          "Belgium",
          "Belize",
          "Bosnia and Herzegovina",
          "Brazil",
          "Bulgaria",
          "Cabo Verde",
          "Canada",
          "Chile",
          "Colombia",
          "Costa Rica",
          "Croatia",
          "Cuba",
          "Cyprus",
          "Czech Republic",
          "Denmark",
          "Dominica",
          "Ecuador",
          "El Salvador",
          "Estonia",
          "Fiji",
          "Finland",
          "France",
          "Georgia",
          "Germany",
          "Greece",
          "Grenada",
          "Guatemala",
          "Guyana",
          "Hungary",
          "Iceland",
          "Ireland",
          "Israel",
          "Italy",
          "Jamaica",
          "Japan",
          "Kazakhstan",
          "Kiribati",
          "Kuwait",
          "Kyrgyzstan",
          "Latvia",
          "Lithuania",
          "Luxembourg",
          "Macau",
          "Maldives",
          "Malta",
          "Mauritius",
          "Mexico",
          "Montenegro",
          "Netherlands",
          "New Zealand",
          "Nicaragua",
          "Norway",
          "Oman",
          "Panama",
          "Paraguay",
          "Philippines",
          "Poland",
          "Portugal",
          "Puerto Rico",
          "Qatar",
          "Republic of Korea",
          "Romania",
          "Russian Federation",
          "Saint Kitts and Nevis",
          "Saint Lucia",
          "Saint Vincent and Grenadines",
          "San Marino",
          "Serbia",
          "Seychelles",
          "Singapore",
          "Slovakia",
          "Slovenia",
          "South Africa",
          "Spain",
          "Sri Lanka",
          "Suriname",
          "Sweden",
          "Switzerland",
          "Thailand",
          "Trinidad and Tobago",
          "Turkey",
          "Turkmenistan",
          "Ukraine",
          "United Arab Emirates",
          "United Kingdom",
          "United States",
          "Uruguay",
          "Uzbekistan"
         ],
         "marker": {
          "line": {
           "color": "black"
          }
         },
         "type": "choropleth",
         "z": [
          3.502878787878788,
          0.5529012345679012,
          10.469327956989249,
          3.248784722222222,
          9.503095238095238,
          12.992805555555556,
          23.905913978494624,
          1.8554166666666667,
          1.247391304347826,
          1.854126984126984,
          2.9704333333333333,
          31.075912698412697,
          21.237903225806452,
          6.230624999999999,
          4.617083333333333,
          5.846021505376344,
          19.48911111111111,
          11.153333333333334,
          12.467586206896552,
          10.542043010752687,
          5.401586021505377,
          7.093666666666666,
          22.893968253968254,
          21.22204861111111,
          3.2089880952380954,
          18.561634615384612,
          14.097159090909091,
          0,
          6.304327956989248,
          10.541458333333333,
          27.27690476190476,
          5.105,
          22.77043103448276,
          21.675694444444446,
          4.228712121212122,
          15.559903846153844,
          4.064838709677419,
          2.203333333333333,
          3.185277777777778,
          22.1864,
          33.049099999999996,
          12.773306451612903,
          10.782583333333333,
          8.951532258064516,
          8.518467741935483,
          0.5217647058823529,
          21.57319892473118,
          30.511282051282052,
          6.655378787878788,
          1.1864333333333335,
          14.28621794871795,
          29.2593253968254,
          40.58396825396825,
          16.54989247311828,
          14.311666666666667,
          1.3673333333333333,
          5.032284946236559,
          11.734623655913978,
          4.7075000000000005,
          9.95025,
          10.589059139784947,
          14.391724137931034,
          6.566944444444444,
          12.941,
          0.7361111111111112,
          5.813533333333333,
          4.217191358024691,
          2.4212777777777776,
          15.269513888888888,
          11.33753086419753,
          10.186236559139786,
          1.7959523809523812,
          25.135618279569893,
          12.51611111111111,
          34.89237654320988,
          0,
          7.202738095238095,
          5.7554333333333325,
          4.045,
          22.16412037037037,
          7.480092592592593,
          17.04564516129032,
          12.568787878787878,
          27.82785714285714,
          0.9645416666666667,
          9.432956989247312,
          35.29515151515152,
          21.31642857142857,
          14.680689655172413,
          19.0240873015873,
          7.053549382716049,
          13.825648148148149,
          2.3710714285714283,
          8.605545977011495,
          26.58232142857143,
          1.3179166666666666,
          7.50247311827957,
          13.81981182795699,
          19.461190476190477,
          8.099128787878788
         ]
        }
       ],
       "layout": {
        "geo": {
         "projection": {
          "type": "equirectangular"
         },
         "showcoastlines": false,
         "showframe": false
        },
        "template": {
         "data": {
          "bar": [
           {
            "error_x": {
             "color": "#2a3f5f"
            },
            "error_y": {
             "color": "#2a3f5f"
            },
            "marker": {
             "line": {
              "color": "#E5ECF6",
              "width": 0.5
             },
             "pattern": {
              "fillmode": "overlay",
              "size": 10,
              "solidity": 0.2
             }
            },
            "type": "bar"
           }
          ],
          "barpolar": [
           {
            "marker": {
             "line": {
              "color": "#E5ECF6",
              "width": 0.5
             },
             "pattern": {
              "fillmode": "overlay",
              "size": 10,
              "solidity": 0.2
             }
            },
            "type": "barpolar"
           }
          ],
          "carpet": [
           {
            "aaxis": {
             "endlinecolor": "#2a3f5f",
             "gridcolor": "white",
             "linecolor": "white",
             "minorgridcolor": "white",
             "startlinecolor": "#2a3f5f"
            },
            "baxis": {
             "endlinecolor": "#2a3f5f",
             "gridcolor": "white",
             "linecolor": "white",
             "minorgridcolor": "white",
             "startlinecolor": "#2a3f5f"
            },
            "type": "carpet"
           }
          ],
          "choropleth": [
           {
            "colorbar": {
             "outlinewidth": 0,
             "ticks": ""
            },
            "type": "choropleth"
           }
          ],
          "contour": [
           {
            "colorbar": {
             "outlinewidth": 0,
             "ticks": ""
            },
            "colorscale": [
             [
              0,
              "#0d0887"
             ],
             [
              0.1111111111111111,
              "#46039f"
             ],
             [
              0.2222222222222222,
              "#7201a8"
             ],
             [
              0.3333333333333333,
              "#9c179e"
             ],
             [
              0.4444444444444444,
              "#bd3786"
             ],
             [
              0.5555555555555556,
              "#d8576b"
             ],
             [
              0.6666666666666666,
              "#ed7953"
             ],
             [
              0.7777777777777778,
              "#fb9f3a"
             ],
             [
              0.8888888888888888,
              "#fdca26"
             ],
             [
              1,
              "#f0f921"
             ]
            ],
            "type": "contour"
           }
          ],
          "contourcarpet": [
           {
            "colorbar": {
             "outlinewidth": 0,
             "ticks": ""
            },
            "type": "contourcarpet"
           }
          ],
          "heatmap": [
           {
            "colorbar": {
             "outlinewidth": 0,
             "ticks": ""
            },
            "colorscale": [
             [
              0,
              "#0d0887"
             ],
             [
              0.1111111111111111,
              "#46039f"
             ],
             [
              0.2222222222222222,
              "#7201a8"
             ],
             [
              0.3333333333333333,
              "#9c179e"
             ],
             [
              0.4444444444444444,
              "#bd3786"
             ],
             [
              0.5555555555555556,
              "#d8576b"
             ],
             [
              0.6666666666666666,
              "#ed7953"
             ],
             [
              0.7777777777777778,
              "#fb9f3a"
             ],
             [
              0.8888888888888888,
              "#fdca26"
             ],
             [
              1,
              "#f0f921"
             ]
            ],
            "type": "heatmap"
           }
          ],
          "heatmapgl": [
           {
            "colorbar": {
             "outlinewidth": 0,
             "ticks": ""
            },
            "colorscale": [
             [
              0,
              "#0d0887"
             ],
             [
              0.1111111111111111,
              "#46039f"
             ],
             [
              0.2222222222222222,
              "#7201a8"
             ],
             [
              0.3333333333333333,
              "#9c179e"
             ],
             [
              0.4444444444444444,
              "#bd3786"
             ],
             [
              0.5555555555555556,
              "#d8576b"
             ],
             [
              0.6666666666666666,
              "#ed7953"
             ],
             [
              0.7777777777777778,
              "#fb9f3a"
             ],
             [
              0.8888888888888888,
              "#fdca26"
             ],
             [
              1,
              "#f0f921"
             ]
            ],
            "type": "heatmapgl"
           }
          ],
          "histogram": [
           {
            "marker": {
             "pattern": {
              "fillmode": "overlay",
              "size": 10,
              "solidity": 0.2
             }
            },
            "type": "histogram"
           }
          ],
          "histogram2d": [
           {
            "colorbar": {
             "outlinewidth": 0,
             "ticks": ""
            },
            "colorscale": [
             [
              0,
              "#0d0887"
             ],
             [
              0.1111111111111111,
              "#46039f"
             ],
             [
              0.2222222222222222,
              "#7201a8"
             ],
             [
              0.3333333333333333,
              "#9c179e"
             ],
             [
              0.4444444444444444,
              "#bd3786"
             ],
             [
              0.5555555555555556,
              "#d8576b"
             ],
             [
              0.6666666666666666,
              "#ed7953"
             ],
             [
              0.7777777777777778,
              "#fb9f3a"
             ],
             [
              0.8888888888888888,
              "#fdca26"
             ],
             [
              1,
              "#f0f921"
             ]
            ],
            "type": "histogram2d"
           }
          ],
          "histogram2dcontour": [
           {
            "colorbar": {
             "outlinewidth": 0,
             "ticks": ""
            },
            "colorscale": [
             [
              0,
              "#0d0887"
             ],
             [
              0.1111111111111111,
              "#46039f"
             ],
             [
              0.2222222222222222,
              "#7201a8"
             ],
             [
              0.3333333333333333,
              "#9c179e"
             ],
             [
              0.4444444444444444,
              "#bd3786"
             ],
             [
              0.5555555555555556,
              "#d8576b"
             ],
             [
              0.6666666666666666,
              "#ed7953"
             ],
             [
              0.7777777777777778,
              "#fb9f3a"
             ],
             [
              0.8888888888888888,
              "#fdca26"
             ],
             [
              1,
              "#f0f921"
             ]
            ],
            "type": "histogram2dcontour"
           }
          ],
          "mesh3d": [
           {
            "colorbar": {
             "outlinewidth": 0,
             "ticks": ""
            },
            "type": "mesh3d"
           }
          ],
          "parcoords": [
           {
            "line": {
             "colorbar": {
              "outlinewidth": 0,
              "ticks": ""
             }
            },
            "type": "parcoords"
           }
          ],
          "pie": [
           {
            "automargin": true,
            "type": "pie"
           }
          ],
          "scatter": [
           {
            "fillpattern": {
             "fillmode": "overlay",
             "size": 10,
             "solidity": 0.2
            },
            "type": "scatter"
           }
          ],
          "scatter3d": [
           {
            "line": {
             "colorbar": {
              "outlinewidth": 0,
              "ticks": ""
             }
            },
            "marker": {
             "colorbar": {
              "outlinewidth": 0,
              "ticks": ""
             }
            },
            "type": "scatter3d"
           }
          ],
          "scattercarpet": [
           {
            "marker": {
             "colorbar": {
              "outlinewidth": 0,
              "ticks": ""
             }
            },
            "type": "scattercarpet"
           }
          ],
          "scattergeo": [
           {
            "marker": {
             "colorbar": {
              "outlinewidth": 0,
              "ticks": ""
             }
            },
            "type": "scattergeo"
           }
          ],
          "scattergl": [
           {
            "marker": {
             "colorbar": {
              "outlinewidth": 0,
              "ticks": ""
             }
            },
            "type": "scattergl"
           }
          ],
          "scattermapbox": [
           {
            "marker": {
             "colorbar": {
              "outlinewidth": 0,
              "ticks": ""
             }
            },
            "type": "scattermapbox"
           }
          ],
          "scatterpolar": [
           {
            "marker": {
             "colorbar": {
              "outlinewidth": 0,
              "ticks": ""
             }
            },
            "type": "scatterpolar"
           }
          ],
          "scatterpolargl": [
           {
            "marker": {
             "colorbar": {
              "outlinewidth": 0,
              "ticks": ""
             }
            },
            "type": "scatterpolargl"
           }
          ],
          "scatterternary": [
           {
            "marker": {
             "colorbar": {
              "outlinewidth": 0,
              "ticks": ""
             }
            },
            "type": "scatterternary"
           }
          ],
          "surface": [
           {
            "colorbar": {
             "outlinewidth": 0,
             "ticks": ""
            },
            "colorscale": [
             [
              0,
              "#0d0887"
             ],
             [
              0.1111111111111111,
              "#46039f"
             ],
             [
              0.2222222222222222,
              "#7201a8"
             ],
             [
              0.3333333333333333,
              "#9c179e"
             ],
             [
              0.4444444444444444,
              "#bd3786"
             ],
             [
              0.5555555555555556,
              "#d8576b"
             ],
             [
              0.6666666666666666,
              "#ed7953"
             ],
             [
              0.7777777777777778,
              "#fb9f3a"
             ],
             [
              0.8888888888888888,
              "#fdca26"
             ],
             [
              1,
              "#f0f921"
             ]
            ],
            "type": "surface"
           }
          ],
          "table": [
           {
            "cells": {
             "fill": {
              "color": "#EBF0F8"
             },
             "line": {
              "color": "white"
             }
            },
            "header": {
             "fill": {
              "color": "#C8D4E3"
             },
             "line": {
              "color": "white"
             }
            },
            "type": "table"
           }
          ]
         },
         "layout": {
          "annotationdefaults": {
           "arrowcolor": "#2a3f5f",
           "arrowhead": 0,
           "arrowwidth": 1
          },
          "autotypenumbers": "strict",
          "coloraxis": {
           "colorbar": {
            "outlinewidth": 0,
            "ticks": ""
           }
          },
          "colorscale": {
           "diverging": [
            [
             0,
             "#8e0152"
            ],
            [
             0.1,
             "#c51b7d"
            ],
            [
             0.2,
             "#de77ae"
            ],
            [
             0.3,
             "#f1b6da"
            ],
            [
             0.4,
             "#fde0ef"
            ],
            [
             0.5,
             "#f7f7f7"
            ],
            [
             0.6,
             "#e6f5d0"
            ],
            [
             0.7,
             "#b8e186"
            ],
            [
             0.8,
             "#7fbc41"
            ],
            [
             0.9,
             "#4d9221"
            ],
            [
             1,
             "#276419"
            ]
           ],
           "sequential": [
            [
             0,
             "#0d0887"
            ],
            [
             0.1111111111111111,
             "#46039f"
            ],
            [
             0.2222222222222222,
             "#7201a8"
            ],
            [
             0.3333333333333333,
             "#9c179e"
            ],
            [
             0.4444444444444444,
             "#bd3786"
            ],
            [
             0.5555555555555556,
             "#d8576b"
            ],
            [
             0.6666666666666666,
             "#ed7953"
            ],
            [
             0.7777777777777778,
             "#fb9f3a"
            ],
            [
             0.8888888888888888,
             "#fdca26"
            ],
            [
             1,
             "#f0f921"
            ]
           ],
           "sequentialminus": [
            [
             0,
             "#0d0887"
            ],
            [
             0.1111111111111111,
             "#46039f"
            ],
            [
             0.2222222222222222,
             "#7201a8"
            ],
            [
             0.3333333333333333,
             "#9c179e"
            ],
            [
             0.4444444444444444,
             "#bd3786"
            ],
            [
             0.5555555555555556,
             "#d8576b"
            ],
            [
             0.6666666666666666,
             "#ed7953"
            ],
            [
             0.7777777777777778,
             "#fb9f3a"
            ],
            [
             0.8888888888888888,
             "#fdca26"
            ],
            [
             1,
             "#f0f921"
            ]
           ]
          },
          "colorway": [
           "#636efa",
           "#EF553B",
           "#00cc96",
           "#ab63fa",
           "#FFA15A",
           "#19d3f3",
           "#FF6692",
           "#B6E880",
           "#FF97FF",
           "#FECB52"
          ],
          "font": {
           "color": "#2a3f5f"
          },
          "geo": {
           "bgcolor": "white",
           "lakecolor": "white",
           "landcolor": "#E5ECF6",
           "showlakes": true,
           "showland": true,
           "subunitcolor": "white"
          },
          "hoverlabel": {
           "align": "left"
          },
          "hovermode": "closest",
          "mapbox": {
           "style": "light"
          },
          "paper_bgcolor": "white",
          "plot_bgcolor": "#E5ECF6",
          "polar": {
           "angularaxis": {
            "gridcolor": "white",
            "linecolor": "white",
            "ticks": ""
           },
           "bgcolor": "#E5ECF6",
           "radialaxis": {
            "gridcolor": "white",
            "linecolor": "white",
            "ticks": ""
           }
          },
          "scene": {
           "xaxis": {
            "backgroundcolor": "#E5ECF6",
            "gridcolor": "white",
            "gridwidth": 2,
            "linecolor": "white",
            "showbackground": true,
            "ticks": "",
            "zerolinecolor": "white"
           },
           "yaxis": {
            "backgroundcolor": "#E5ECF6",
            "gridcolor": "white",
            "gridwidth": 2,
            "linecolor": "white",
            "showbackground": true,
            "ticks": "",
            "zerolinecolor": "white"
           },
           "zaxis": {
            "backgroundcolor": "#E5ECF6",
            "gridcolor": "white",
            "gridwidth": 2,
            "linecolor": "white",
            "showbackground": true,
            "ticks": "",
            "zerolinecolor": "white"
           }
          },
          "shapedefaults": {
           "line": {
            "color": "#2a3f5f"
           }
          },
          "ternary": {
           "aaxis": {
            "gridcolor": "white",
            "linecolor": "white",
            "ticks": ""
           },
           "baxis": {
            "gridcolor": "white",
            "linecolor": "white",
            "ticks": ""
           },
           "bgcolor": "#E5ECF6",
           "caxis": {
            "gridcolor": "white",
            "linecolor": "white",
            "ticks": ""
           }
          },
          "title": {
           "x": 0.05
          },
          "xaxis": {
           "automargin": true,
           "gridcolor": "white",
           "linecolor": "white",
           "ticks": "",
           "title": {
            "standoff": 15
           },
           "zerolinecolor": "white",
           "zerolinewidth": 2
          },
          "yaxis": {
           "automargin": true,
           "gridcolor": "white",
           "linecolor": "white",
           "ticks": "",
           "title": {
            "standoff": 15
           },
           "zerolinecolor": "white",
           "zerolinewidth": 2
          }
         }
        },
        "title": {
         "text": "Average Suicides Rate by Country From 1985 To 2015"
        }
       }
      },
      "text/html": [
       "<div>                            <div id=\"fdd70d12-3851-4648-a9fb-553c79114232\" class=\"plotly-graph-div\" style=\"height:525px; width:100%;\"></div>            <script type=\"text/javascript\">                require([\"plotly\"], function(Plotly) {                    window.PLOTLYENV=window.PLOTLYENV || {};                                    if (document.getElementById(\"fdd70d12-3851-4648-a9fb-553c79114232\")) {                    Plotly.newPlot(                        \"fdd70d12-3851-4648-a9fb-553c79114232\",                        [{\"colorbar\":{\"title\":{\"text\":\"suicides/100 thousand population\"}},\"colorscale\":[[0.0,\"rgb(255,255,229)\"],[0.125,\"rgb(247,252,185)\"],[0.25,\"rgb(217,240,163)\"],[0.375,\"rgb(173,221,142)\"],[0.5,\"rgb(120,198,121)\"],[0.625,\"rgb(65,171,93)\"],[0.75,\"rgb(35,132,67)\"],[0.875,\"rgb(0,104,55)\"],[1.0,\"rgb(0,69,41)\"]],\"locationmode\":\"country names\",\"locations\":[\"Albania\",\"Antigua and Barbuda\",\"Argentina\",\"Armenia\",\"Aruba\",\"Australia\",\"Austria\",\"Azerbaijan\",\"Bahamas\",\"Bahrain\",\"Barbados\",\"Belarus\",\"Belgium\",\"Belize\",\"Bosnia and Herzegovina\",\"Brazil\",\"Bulgaria\",\"Cabo Verde\",\"Canada\",\"Chile\",\"Colombia\",\"Costa Rica\",\"Croatia\",\"Cuba\",\"Cyprus\",\"Czech Republic\",\"Denmark\",\"Dominica\",\"Ecuador\",\"El Salvador\",\"Estonia\",\"Fiji\",\"Finland\",\"France\",\"Georgia\",\"Germany\",\"Greece\",\"Grenada\",\"Guatemala\",\"Guyana\",\"Hungary\",\"Iceland\",\"Ireland\",\"Israel\",\"Italy\",\"Jamaica\",\"Japan\",\"Kazakhstan\",\"Kiribati\",\"Kuwait\",\"Kyrgyzstan\",\"Latvia\",\"Lithuania\",\"Luxembourg\",\"Macau\",\"Maldives\",\"Malta\",\"Mauritius\",\"Mexico\",\"Montenegro\",\"Netherlands\",\"New Zealand\",\"Nicaragua\",\"Norway\",\"Oman\",\"Panama\",\"Paraguay\",\"Philippines\",\"Poland\",\"Portugal\",\"Puerto Rico\",\"Qatar\",\"Republic of Korea\",\"Romania\",\"Russian Federation\",\"Saint Kitts and Nevis\",\"Saint Lucia\",\"Saint Vincent and Grenadines\",\"San Marino\",\"Serbia\",\"Seychelles\",\"Singapore\",\"Slovakia\",\"Slovenia\",\"South Africa\",\"Spain\",\"Sri Lanka\",\"Suriname\",\"Sweden\",\"Switzerland\",\"Thailand\",\"Trinidad and Tobago\",\"Turkey\",\"Turkmenistan\",\"Ukraine\",\"United Arab Emirates\",\"United Kingdom\",\"United States\",\"Uruguay\",\"Uzbekistan\"],\"marker\":{\"line\":{\"color\":\"black\"}},\"z\":[3.502878787878788,0.5529012345679012,10.469327956989249,3.248784722222222,9.503095238095238,12.992805555555556,23.905913978494624,1.8554166666666667,1.247391304347826,1.854126984126984,2.9704333333333333,31.075912698412697,21.237903225806452,6.230624999999999,4.617083333333333,5.846021505376344,19.48911111111111,11.153333333333334,12.467586206896552,10.542043010752687,5.401586021505377,7.093666666666666,22.893968253968254,21.22204861111111,3.2089880952380954,18.561634615384612,14.097159090909091,0.0,6.304327956989248,10.541458333333333,27.27690476190476,5.105,22.77043103448276,21.675694444444446,4.228712121212122,15.559903846153844,4.064838709677419,2.203333333333333,3.185277777777778,22.1864,33.049099999999996,12.773306451612903,10.782583333333333,8.951532258064516,8.518467741935483,0.5217647058823529,21.57319892473118,30.511282051282052,6.655378787878788,1.1864333333333335,14.28621794871795,29.2593253968254,40.58396825396825,16.54989247311828,14.311666666666667,1.3673333333333333,5.032284946236559,11.734623655913978,4.7075000000000005,9.95025,10.589059139784947,14.391724137931034,6.566944444444444,12.941,0.7361111111111112,5.813533333333333,4.217191358024691,2.4212777777777776,15.269513888888888,11.33753086419753,10.186236559139786,1.7959523809523812,25.135618279569893,12.51611111111111,34.89237654320988,0.0,7.202738095238095,5.7554333333333325,4.045,22.16412037037037,7.480092592592593,17.04564516129032,12.568787878787878,27.82785714285714,0.9645416666666667,9.432956989247312,35.29515151515152,21.31642857142857,14.680689655172413,19.0240873015873,7.053549382716049,13.825648148148149,2.3710714285714283,8.605545977011495,26.58232142857143,1.3179166666666666,7.50247311827957,13.81981182795699,19.461190476190477,8.099128787878788],\"type\":\"choropleth\"}],                        {\"template\":{\"data\":{\"histogram2dcontour\":[{\"type\":\"histogram2dcontour\",\"colorbar\":{\"outlinewidth\":0,\"ticks\":\"\"},\"colorscale\":[[0.0,\"#0d0887\"],[0.1111111111111111,\"#46039f\"],[0.2222222222222222,\"#7201a8\"],[0.3333333333333333,\"#9c179e\"],[0.4444444444444444,\"#bd3786\"],[0.5555555555555556,\"#d8576b\"],[0.6666666666666666,\"#ed7953\"],[0.7777777777777778,\"#fb9f3a\"],[0.8888888888888888,\"#fdca26\"],[1.0,\"#f0f921\"]]}],\"choropleth\":[{\"type\":\"choropleth\",\"colorbar\":{\"outlinewidth\":0,\"ticks\":\"\"}}],\"histogram2d\":[{\"type\":\"histogram2d\",\"colorbar\":{\"outlinewidth\":0,\"ticks\":\"\"},\"colorscale\":[[0.0,\"#0d0887\"],[0.1111111111111111,\"#46039f\"],[0.2222222222222222,\"#7201a8\"],[0.3333333333333333,\"#9c179e\"],[0.4444444444444444,\"#bd3786\"],[0.5555555555555556,\"#d8576b\"],[0.6666666666666666,\"#ed7953\"],[0.7777777777777778,\"#fb9f3a\"],[0.8888888888888888,\"#fdca26\"],[1.0,\"#f0f921\"]]}],\"heatmap\":[{\"type\":\"heatmap\",\"colorbar\":{\"outlinewidth\":0,\"ticks\":\"\"},\"colorscale\":[[0.0,\"#0d0887\"],[0.1111111111111111,\"#46039f\"],[0.2222222222222222,\"#7201a8\"],[0.3333333333333333,\"#9c179e\"],[0.4444444444444444,\"#bd3786\"],[0.5555555555555556,\"#d8576b\"],[0.6666666666666666,\"#ed7953\"],[0.7777777777777778,\"#fb9f3a\"],[0.8888888888888888,\"#fdca26\"],[1.0,\"#f0f921\"]]}],\"heatmapgl\":[{\"type\":\"heatmapgl\",\"colorbar\":{\"outlinewidth\":0,\"ticks\":\"\"},\"colorscale\":[[0.0,\"#0d0887\"],[0.1111111111111111,\"#46039f\"],[0.2222222222222222,\"#7201a8\"],[0.3333333333333333,\"#9c179e\"],[0.4444444444444444,\"#bd3786\"],[0.5555555555555556,\"#d8576b\"],[0.6666666666666666,\"#ed7953\"],[0.7777777777777778,\"#fb9f3a\"],[0.8888888888888888,\"#fdca26\"],[1.0,\"#f0f921\"]]}],\"contourcarpet\":[{\"type\":\"contourcarpet\",\"colorbar\":{\"outlinewidth\":0,\"ticks\":\"\"}}],\"contour\":[{\"type\":\"contour\",\"colorbar\":{\"outlinewidth\":0,\"ticks\":\"\"},\"colorscale\":[[0.0,\"#0d0887\"],[0.1111111111111111,\"#46039f\"],[0.2222222222222222,\"#7201a8\"],[0.3333333333333333,\"#9c179e\"],[0.4444444444444444,\"#bd3786\"],[0.5555555555555556,\"#d8576b\"],[0.6666666666666666,\"#ed7953\"],[0.7777777777777778,\"#fb9f3a\"],[0.8888888888888888,\"#fdca26\"],[1.0,\"#f0f921\"]]}],\"surface\":[{\"type\":\"surface\",\"colorbar\":{\"outlinewidth\":0,\"ticks\":\"\"},\"colorscale\":[[0.0,\"#0d0887\"],[0.1111111111111111,\"#46039f\"],[0.2222222222222222,\"#7201a8\"],[0.3333333333333333,\"#9c179e\"],[0.4444444444444444,\"#bd3786\"],[0.5555555555555556,\"#d8576b\"],[0.6666666666666666,\"#ed7953\"],[0.7777777777777778,\"#fb9f3a\"],[0.8888888888888888,\"#fdca26\"],[1.0,\"#f0f921\"]]}],\"mesh3d\":[{\"type\":\"mesh3d\",\"colorbar\":{\"outlinewidth\":0,\"ticks\":\"\"}}],\"scatter\":[{\"fillpattern\":{\"fillmode\":\"overlay\",\"size\":10,\"solidity\":0.2},\"type\":\"scatter\"}],\"parcoords\":[{\"type\":\"parcoords\",\"line\":{\"colorbar\":{\"outlinewidth\":0,\"ticks\":\"\"}}}],\"scatterpolargl\":[{\"type\":\"scatterpolargl\",\"marker\":{\"colorbar\":{\"outlinewidth\":0,\"ticks\":\"\"}}}],\"bar\":[{\"error_x\":{\"color\":\"#2a3f5f\"},\"error_y\":{\"color\":\"#2a3f5f\"},\"marker\":{\"line\":{\"color\":\"#E5ECF6\",\"width\":0.5},\"pattern\":{\"fillmode\":\"overlay\",\"size\":10,\"solidity\":0.2}},\"type\":\"bar\"}],\"scattergeo\":[{\"type\":\"scattergeo\",\"marker\":{\"colorbar\":{\"outlinewidth\":0,\"ticks\":\"\"}}}],\"scatterpolar\":[{\"type\":\"scatterpolar\",\"marker\":{\"colorbar\":{\"outlinewidth\":0,\"ticks\":\"\"}}}],\"histogram\":[{\"marker\":{\"pattern\":{\"fillmode\":\"overlay\",\"size\":10,\"solidity\":0.2}},\"type\":\"histogram\"}],\"scattergl\":[{\"type\":\"scattergl\",\"marker\":{\"colorbar\":{\"outlinewidth\":0,\"ticks\":\"\"}}}],\"scatter3d\":[{\"type\":\"scatter3d\",\"line\":{\"colorbar\":{\"outlinewidth\":0,\"ticks\":\"\"}},\"marker\":{\"colorbar\":{\"outlinewidth\":0,\"ticks\":\"\"}}}],\"scattermapbox\":[{\"type\":\"scattermapbox\",\"marker\":{\"colorbar\":{\"outlinewidth\":0,\"ticks\":\"\"}}}],\"scatterternary\":[{\"type\":\"scatterternary\",\"marker\":{\"colorbar\":{\"outlinewidth\":0,\"ticks\":\"\"}}}],\"scattercarpet\":[{\"type\":\"scattercarpet\",\"marker\":{\"colorbar\":{\"outlinewidth\":0,\"ticks\":\"\"}}}],\"carpet\":[{\"aaxis\":{\"endlinecolor\":\"#2a3f5f\",\"gridcolor\":\"white\",\"linecolor\":\"white\",\"minorgridcolor\":\"white\",\"startlinecolor\":\"#2a3f5f\"},\"baxis\":{\"endlinecolor\":\"#2a3f5f\",\"gridcolor\":\"white\",\"linecolor\":\"white\",\"minorgridcolor\":\"white\",\"startlinecolor\":\"#2a3f5f\"},\"type\":\"carpet\"}],\"table\":[{\"cells\":{\"fill\":{\"color\":\"#EBF0F8\"},\"line\":{\"color\":\"white\"}},\"header\":{\"fill\":{\"color\":\"#C8D4E3\"},\"line\":{\"color\":\"white\"}},\"type\":\"table\"}],\"barpolar\":[{\"marker\":{\"line\":{\"color\":\"#E5ECF6\",\"width\":0.5},\"pattern\":{\"fillmode\":\"overlay\",\"size\":10,\"solidity\":0.2}},\"type\":\"barpolar\"}],\"pie\":[{\"automargin\":true,\"type\":\"pie\"}]},\"layout\":{\"autotypenumbers\":\"strict\",\"colorway\":[\"#636efa\",\"#EF553B\",\"#00cc96\",\"#ab63fa\",\"#FFA15A\",\"#19d3f3\",\"#FF6692\",\"#B6E880\",\"#FF97FF\",\"#FECB52\"],\"font\":{\"color\":\"#2a3f5f\"},\"hovermode\":\"closest\",\"hoverlabel\":{\"align\":\"left\"},\"paper_bgcolor\":\"white\",\"plot_bgcolor\":\"#E5ECF6\",\"polar\":{\"bgcolor\":\"#E5ECF6\",\"angularaxis\":{\"gridcolor\":\"white\",\"linecolor\":\"white\",\"ticks\":\"\"},\"radialaxis\":{\"gridcolor\":\"white\",\"linecolor\":\"white\",\"ticks\":\"\"}},\"ternary\":{\"bgcolor\":\"#E5ECF6\",\"aaxis\":{\"gridcolor\":\"white\",\"linecolor\":\"white\",\"ticks\":\"\"},\"baxis\":{\"gridcolor\":\"white\",\"linecolor\":\"white\",\"ticks\":\"\"},\"caxis\":{\"gridcolor\":\"white\",\"linecolor\":\"white\",\"ticks\":\"\"}},\"coloraxis\":{\"colorbar\":{\"outlinewidth\":0,\"ticks\":\"\"}},\"colorscale\":{\"sequential\":[[0.0,\"#0d0887\"],[0.1111111111111111,\"#46039f\"],[0.2222222222222222,\"#7201a8\"],[0.3333333333333333,\"#9c179e\"],[0.4444444444444444,\"#bd3786\"],[0.5555555555555556,\"#d8576b\"],[0.6666666666666666,\"#ed7953\"],[0.7777777777777778,\"#fb9f3a\"],[0.8888888888888888,\"#fdca26\"],[1.0,\"#f0f921\"]],\"sequentialminus\":[[0.0,\"#0d0887\"],[0.1111111111111111,\"#46039f\"],[0.2222222222222222,\"#7201a8\"],[0.3333333333333333,\"#9c179e\"],[0.4444444444444444,\"#bd3786\"],[0.5555555555555556,\"#d8576b\"],[0.6666666666666666,\"#ed7953\"],[0.7777777777777778,\"#fb9f3a\"],[0.8888888888888888,\"#fdca26\"],[1.0,\"#f0f921\"]],\"diverging\":[[0,\"#8e0152\"],[0.1,\"#c51b7d\"],[0.2,\"#de77ae\"],[0.3,\"#f1b6da\"],[0.4,\"#fde0ef\"],[0.5,\"#f7f7f7\"],[0.6,\"#e6f5d0\"],[0.7,\"#b8e186\"],[0.8,\"#7fbc41\"],[0.9,\"#4d9221\"],[1,\"#276419\"]]},\"xaxis\":{\"gridcolor\":\"white\",\"linecolor\":\"white\",\"ticks\":\"\",\"title\":{\"standoff\":15},\"zerolinecolor\":\"white\",\"automargin\":true,\"zerolinewidth\":2},\"yaxis\":{\"gridcolor\":\"white\",\"linecolor\":\"white\",\"ticks\":\"\",\"title\":{\"standoff\":15},\"zerolinecolor\":\"white\",\"automargin\":true,\"zerolinewidth\":2},\"scene\":{\"xaxis\":{\"backgroundcolor\":\"#E5ECF6\",\"gridcolor\":\"white\",\"linecolor\":\"white\",\"showbackground\":true,\"ticks\":\"\",\"zerolinecolor\":\"white\",\"gridwidth\":2},\"yaxis\":{\"backgroundcolor\":\"#E5ECF6\",\"gridcolor\":\"white\",\"linecolor\":\"white\",\"showbackground\":true,\"ticks\":\"\",\"zerolinecolor\":\"white\",\"gridwidth\":2},\"zaxis\":{\"backgroundcolor\":\"#E5ECF6\",\"gridcolor\":\"white\",\"linecolor\":\"white\",\"showbackground\":true,\"ticks\":\"\",\"zerolinecolor\":\"white\",\"gridwidth\":2}},\"shapedefaults\":{\"line\":{\"color\":\"#2a3f5f\"}},\"annotationdefaults\":{\"arrowcolor\":\"#2a3f5f\",\"arrowhead\":0,\"arrowwidth\":1},\"geo\":{\"bgcolor\":\"white\",\"landcolor\":\"#E5ECF6\",\"subunitcolor\":\"white\",\"showland\":true,\"showlakes\":true,\"lakecolor\":\"white\"},\"title\":{\"x\":0.05},\"mapbox\":{\"style\":\"light\"}}},\"title\":{\"text\":\"Average Suicides Rate by Country From 1985 To 2015\"},\"geo\":{\"projection\":{\"type\":\"equirectangular\"},\"showframe\":false,\"showcoastlines\":false}},                        {\"responsive\": true}                    ).then(function(){\n",
       "                            \n",
       "var gd = document.getElementById('fdd70d12-3851-4648-a9fb-553c79114232');\n",
       "var x = new MutationObserver(function (mutations, observer) {{\n",
       "        var display = window.getComputedStyle(gd).display;\n",
       "        if (!display || display === 'none') {{\n",
       "            console.log([gd, 'removed!']);\n",
       "            Plotly.purge(gd);\n",
       "            observer.disconnect();\n",
       "        }}\n",
       "}});\n",
       "\n",
       "// Listen for the removal of the full notebook cells\n",
       "var notebookContainer = gd.closest('#notebook-container');\n",
       "if (notebookContainer) {{\n",
       "    x.observe(notebookContainer, {childList: true});\n",
       "}}\n",
       "\n",
       "// Listen for the clearing of the current output cell\n",
       "var outputEl = gd.closest('.output');\n",
       "if (outputEl) {{\n",
       "    x.observe(outputEl, {childList: true});\n",
       "}}\n",
       "\n",
       "                        })                };                });            </script>        </div>"
      ]
     },
     "metadata": {},
     "output_type": "display_data"
    }
   ],
   "source": [
    "fig = go.Figure(data=go.Choropleth(\n",
    "    locations=data6['country'], # coordinate\n",
    "    z = data6['suicide_rate'].astype(float), # Data to be color-coded\n",
    "    locationmode = 'country names', # set of locations match entries in `locations`\n",
    "    colorscale = 'YlGn',\n",
    "    marker_line_color='black',\n",
    "    colorbar_title = \"suicides/100 thousand population\",\n",
    "    \n",
    "))\n",
    "\n",
    "fig.update_layout(\n",
    "    title_text='Average Suicides Rate by Country From 1985 To 2015',\n",
    "     geo=dict(\n",
    "        showframe=False,\n",
    "        showcoastlines=False,\n",
    "        projection_type='equirectangular'\n",
    "    ),\n",
    ")\n",
    "\n",
    "plotly.io.show(fig)"
   ]
  },
  {
   "cell_type": "markdown",
   "id": "86b6223f",
   "metadata": {},
   "source": [
    "From the map, we will see the east Europe(which include Russia) has highest rate of suicide. America area do not have very high suicide rate. Moreover, most Asia and Africa area was empty due to lack of information."
   ]
  },
  {
   "cell_type": "markdown",
   "id": "fab6a716",
   "metadata": {},
   "source": [
    "### 2.4 Homicide By GDP\n",
    "Let us see how many suicide happened in different gdp in the world. Now, we want to introduce how suicide distribute different gdp in the world with visualization."
   ]
  },
  {
   "cell_type": "code",
   "execution_count": 462,
   "id": "f1d9df41",
   "metadata": {},
   "outputs": [
    {
     "data": {
      "image/png": "[encoded data removed]",
      "text/plain": [
       "<Figure size 1200x600 with 1 Axes>"
      ]
     },
     "metadata": {},
     "output_type": "display_data"
    }
   ],
   "source": [
    "#copy new table and find suicide rate\n",
    "data7=data.groupby(['year']).sum()\n",
    "size = len(np.unique(data['age']))\n",
    "data7['suicides_rate_100k'] = data7['suicide_rate'] /float(size)\n",
    "\n",
    "size\n",
    "data7['gdp_year'] = data7['gdp_per_year'] /float(size)\n",
    "\n",
    "#normalize so it can compare\n",
    "temp = data7.drop(columns=['population','suicides_no','gdp_per_capita ($)','gdp_per_year', 'suicide_rate'])\n",
    "value = temp.values\n",
    "min_max_scaler = preprocessing.MinMaxScaler()\n",
    "x_scaled = min_max_scaler.fit_transform(value)\n",
    "outhere= pd.DataFrame(x_scaled)\n",
    "outhere.index=temp.index\n",
    "outhere.columns=temp.columns\n",
    "outhere.plot(figsize=(12,6))\n",
    "plt.title('GDP vs. suicide rate from 1985 to 2015')\n",
    "plt.show()\n"
   ]
  },
  {
   "cell_type": "markdown",
   "id": "6e6e0ba4",
   "metadata": {},
   "source": [
    "According the graph, we find it is hard to say that GDP and suicide has a strong linear relationship, because they are not increasing or decreasing at the same time. From 1990 to 2000, world GDP has only a little change, but the suicide rate has significant changed. And from 2005 to 2014, the GDP is increasing overall and suicide rate is decreasing. I guess there are another important factor or event in 1990 to 2000 period that affected suicide rate significantly. Even the GDP and suicide rate is not linear in worldwide, it might be linear in some countries. Let’s see the details of each country."
   ]
  },
  {
   "cell_type": "markdown",
   "id": "3701c7d6",
   "metadata": {},
   "source": [
    "### Compare age and suicide rate \n",
    "I try to compare these two factor to check they have strong relationship or not."
   ]
  },
  {
   "cell_type": "code",
   "execution_count": 463,
   "id": "5519889d",
   "metadata": {},
   "outputs": [
    {
     "data": {
      "image/png": "[encoded data removed]",
      "text/plain": [
       "<Figure size 1200x600 with 1 Axes>"
      ]
     },
     "metadata": {},
     "output_type": "display_data"
    }
   ],
   "source": [
    "#copy data and sort it\n",
    "test=data.groupby(['age']).mean()\n",
    "size = len(np.unique(data['age']))\n",
    "test['suicides_rate_100k'] = test['suicide_rate'] /float(size)\n",
    "test = test.sort_values(\"suicides_rate_100k\", ascending=True)\n",
    "test = test.reset_index()\n",
    "#get new table and drop uncessary data\n",
    "temp = test.drop(columns=['year', 'population','suicides_no','gdp_per_capita ($)','gdp_per_year', 'suicide_rate'])\n",
    "\n",
    "#change age to int to make readable\n",
    "lt = preprocessing.LabelEncoder()\n",
    "lt.fit([0, 1 , 2 , 3 , 4, 5] )\n",
    "temp['age'] = lt.transform([0, 1 , 2 , 3 , 4, 5] )\n",
    "bar = ['5-14', '15-24', '25-34', '35-54', '55-74', '75+']\n",
    "\n",
    "#Plot the graph with the data\n",
    "value = temp.values\n",
    "min_max_scaler = preprocessing.MinMaxScaler()\n",
    "x_scaled = min_max_scaler.fit_transform(value)\n",
    "graph = pd.DataFrame(x_scaled)\n",
    "graph.index=temp.index\n",
    "graph.columns=temp.columns\n",
    "graph.plot(figsize=(12,6))\n",
    "plt.xticks(np.arange(len(bar)), bar)\n",
    "plt.title('age period vs. suicide rate')\n",
    "plt.show()"
   ]
  },
  {
   "cell_type": "markdown",
   "id": "c27ed7f1",
   "metadata": {},
   "source": [
    "From that chart, I found that age have very strong relationship with suicide rate becasue when the age increasing, the suicide rate will increase too."
   ]
  },
  {
   "cell_type": "markdown",
   "id": "ab244baf",
   "metadata": {},
   "source": [
    "## Part 3: Linear Regression and Hypothesis Test\n",
    "Now that we have our analysis done we can start doing linear regression and test our predictions. When doing a linear regression, we're taking data that is already there and predicting future data base on the patterns of the data we already have. We are going to take a linear regression of just our suicide rate with age data and compare it to other regression when taking different factors using a f test. And we predict that if we can account many factors, we will be able to have more accurate predictions.\n",
    "\n"
   ]
  },
  {
   "cell_type": "markdown",
   "id": "be9e33a5",
   "metadata": {},
   "source": [
    "### 3.1 Linear Regression on Homicide by Years\n",
    "We will start creating the linear regression model for suicide rate with age data. We will be using the Linear Regression model library to create the model and to get our predicted values.\n",
    "\n",
    "Refer to the documentation for more info http://scikit-learn.org/stable/modules/generated/sklearn.linear_model.LinearRegression.html"
   ]
  },
  {
   "cell_type": "code",
   "execution_count": 464,
   "id": "aaaad265",
   "metadata": {},
   "outputs": [
    {
     "data": {
      "text/plain": [
       "([<matplotlib.axis.XTick at 0x2269f1982e0>,\n",
       "  <matplotlib.axis.XTick at 0x2269f1982b0>,\n",
       "  <matplotlib.axis.XTick at 0x2269edb4df0>,\n",
       "  <matplotlib.axis.XTick at 0x2269f1e3a90>,\n",
       "  <matplotlib.axis.XTick at 0x2269f1ec220>,\n",
       "  <matplotlib.axis.XTick at 0x2269f1e3b80>],\n",
       " [Text(0, 0, '5-14'),\n",
       "  Text(1, 0, '15-24'),\n",
       "  Text(2, 0, '25-34'),\n",
       "  Text(3, 0, '35-54'),\n",
       "  Text(4, 0, '55-74'),\n",
       "  Text(5, 0, '75+')])"
      ]
     },
     "execution_count": 464,
     "metadata": {},
     "output_type": "execute_result"
    },
    {
     "data": {
      "image/png": "[encoded data removed]",
      "text/plain": [
       "<Figure size 640x480 with 1 Axes>"
      ]
     },
     "metadata": {},
     "output_type": "display_data"
    }
   ],
   "source": [
    "\n",
    "from sklearn import linear_model\n",
    "#Linear Regression\n",
    "reg = linear_model.LinearRegression()\n",
    "X = [[x]for x in temp['age'].values]\n",
    "Y = [[y] for y in temp['suicides_rate_100k'].values]\n",
    "regfit = reg.fit(X, Y)\n",
    "#Get predcited Values\n",
    "pred_suicide = []\n",
    "for x in temp['age'].values.reshape(6, 1):\n",
    "    pred_suicide.append(regfit.predict([x])[0][0])\n",
    "temp['pred_suicide'] = pd.Series(pred_suicide, index = temp.index)\n",
    "\n",
    "#Plot the linear regression line with the data\n",
    "bar = ['5-14', '15-24', '25-34', '35-54', '55-74', '75+']\n",
    "plt.plot(temp['age'], temp['suicides_rate_100k'], color='blue',)\n",
    "plt.plot(temp['age'], temp['pred_suicide'], color='red')\n",
    "plt.xlabel(\"Age\")\n",
    "plt.ylabel(\"Suicide Rate\")\n",
    "plt.title(\"Suicide Rate vs Age with Linear Regression\")\n",
    "plt.xticks(np.arange(len(bar)), bar)"
   ]
  },
  {
   "cell_type": "markdown",
   "id": "1b32a68d",
   "metadata": {},
   "source": [
    "### 3.2 Fitting the Linear Regression Model\n",
    "In this section, we would like to fit four different linear regressions. First is the regression with age vs suicide rate. rest will be the regression with both age and another four different factor. Here is the result for the first regression:"
   ]
  },
  {
   "cell_type": "code",
   "execution_count": 465,
   "id": "8fba3e84",
   "metadata": {},
   "outputs": [
    {
     "data": {
      "text/html": [
       "<table class=\"simpletable\">\n",
       "<caption>OLS Regression Results</caption>\n",
       "<tr>\n",
       "  <th>Dep. Variable:</th>    <td>suicides_rate_100k</td> <th>  R-squared:         </th> <td>   0.935</td>\n",
       "</tr>\n",
       "<tr>\n",
       "  <th>Model:</th>                    <td>OLS</td>        <th>  Adj. R-squared:    </th> <td>   0.919</td>\n",
       "</tr>\n",
       "<tr>\n",
       "  <th>Method:</th>              <td>Least Squares</td>   <th>  F-statistic:       </th> <td>   57.78</td>\n",
       "</tr>\n",
       "<tr>\n",
       "  <th>Date:</th>              <td>Fri, 16 Dec 2022</td>  <th>  Prob (F-statistic):</th>  <td>0.00161</td>\n",
       "</tr>\n",
       "<tr>\n",
       "  <th>Time:</th>                  <td>23:32:18</td>      <th>  Log-Likelihood:    </th> <td> -1.3305</td>\n",
       "</tr>\n",
       "<tr>\n",
       "  <th>No. Observations:</th>       <td>     6</td>       <th>  AIC:               </th> <td>   6.661</td>\n",
       "</tr>\n",
       "<tr>\n",
       "  <th>Df Residuals:</th>           <td>     4</td>       <th>  BIC:               </th> <td>   6.244</td>\n",
       "</tr>\n",
       "<tr>\n",
       "  <th>Df Model:</th>               <td>     1</td>       <th>                     </th>     <td> </td>   \n",
       "</tr>\n",
       "<tr>\n",
       "  <th>Covariance Type:</th>       <td>nonrobust</td>     <th>                     </th>     <td> </td>   \n",
       "</tr>\n",
       "</table>\n",
       "<table class=\"simpletable\">\n",
       "<tr>\n",
       "      <td></td>         <th>coef</th>     <th>std err</th>      <th>t</th>      <th>P>|t|</th>  <th>[0.025</th>    <th>0.975]</th>  \n",
       "</tr>\n",
       "<tr>\n",
       "  <th>Intercept</th> <td>    0.4549</td> <td>    0.268</td> <td>    1.699</td> <td> 0.164</td> <td>   -0.288</td> <td>    1.198</td>\n",
       "</tr>\n",
       "<tr>\n",
       "  <th>age</th>       <td>    0.6722</td> <td>    0.088</td> <td>    7.602</td> <td> 0.002</td> <td>    0.427</td> <td>    0.918</td>\n",
       "</tr>\n",
       "</table>\n",
       "<table class=\"simpletable\">\n",
       "<tr>\n",
       "  <th>Omnibus:</th>       <td>   nan</td> <th>  Durbin-Watson:     </th> <td>   2.185</td>\n",
       "</tr>\n",
       "<tr>\n",
       "  <th>Prob(Omnibus):</th> <td>   nan</td> <th>  Jarque-Bera (JB):  </th> <td>   0.678</td>\n",
       "</tr>\n",
       "<tr>\n",
       "  <th>Skew:</th>          <td>-0.405</td> <th>  Prob(JB):          </th> <td>   0.712</td>\n",
       "</tr>\n",
       "<tr>\n",
       "  <th>Kurtosis:</th>      <td> 1.565</td> <th>  Cond. No.          </th> <td>    5.78</td>\n",
       "</tr>\n",
       "</table><br/><br/>Notes:<br/>[1] Standard Errors assume that the covariance matrix of the errors is correctly specified."
      ],
      "text/plain": [
       "<class 'statsmodels.iolib.summary.Summary'>\n",
       "\"\"\"\n",
       "                            OLS Regression Results                            \n",
       "==============================================================================\n",
       "Dep. Variable:     suicides_rate_100k   R-squared:                       0.935\n",
       "Model:                            OLS   Adj. R-squared:                  0.919\n",
       "Method:                 Least Squares   F-statistic:                     57.78\n",
       "Date:                Fri, 16 Dec 2022   Prob (F-statistic):            0.00161\n",
       "Time:                        23:32:18   Log-Likelihood:                -1.3305\n",
       "No. Observations:                   6   AIC:                             6.661\n",
       "Df Residuals:                       4   BIC:                             6.244\n",
       "Df Model:                           1                                         \n",
       "Covariance Type:            nonrobust                                         \n",
       "==============================================================================\n",
       "                 coef    std err          t      P>|t|      [0.025      0.975]\n",
       "------------------------------------------------------------------------------\n",
       "Intercept      0.4549      0.268      1.699      0.164      -0.288       1.198\n",
       "age            0.6722      0.088      7.602      0.002       0.427       0.918\n",
       "==============================================================================\n",
       "Omnibus:                          nan   Durbin-Watson:                   2.185\n",
       "Prob(Omnibus):                    nan   Jarque-Bera (JB):                0.678\n",
       "Skew:                          -0.405   Prob(JB):                        0.712\n",
       "Kurtosis:                       1.565   Cond. No.                         5.78\n",
       "==============================================================================\n",
       "\n",
       "Notes:\n",
       "[1] Standard Errors assume that the covariance matrix of the errors is correctly specified.\n",
       "\"\"\""
      ]
     },
     "execution_count": 465,
     "metadata": {},
     "output_type": "execute_result"
    }
   ],
   "source": [
    "#Fit the first regression\n",
    "regression = ols(formula='suicides_rate_100k ~ age', data=temp).fit()\n",
    "regression.summary()"
   ]
  },
  {
   "cell_type": "markdown",
   "id": "6dfc04ef",
   "metadata": {},
   "source": [
    "The second linear regression requires not only age but it also accounts for country that these suicide cases happened. Therefore, we predict that if we includes country as another factor, then this linear regression model will be more accurate. \n",
    "Here is the result for the second regression:"
   ]
  },
  {
   "cell_type": "code",
   "execution_count": 466,
   "id": "25f6bb8d",
   "metadata": {},
   "outputs": [
    {
     "data": {
      "text/html": [
       "<table class=\"simpletable\">\n",
       "<caption>OLS Regression Results</caption>\n",
       "<tr>\n",
       "  <th>Dep. Variable:</th>      <td>suicide_rate</td>   <th>  R-squared:         </th> <td>   0.662</td>\n",
       "</tr>\n",
       "<tr>\n",
       "  <th>Model:</th>                   <td>OLS</td>       <th>  Adj. R-squared:    </th> <td>   0.494</td>\n",
       "</tr>\n",
       "<tr>\n",
       "  <th>Method:</th>             <td>Least Squares</td>  <th>  F-statistic:       </th> <td>   3.936</td>\n",
       "</tr>\n",
       "<tr>\n",
       "  <th>Date:</th>             <td>Fri, 16 Dec 2022</td> <th>  Prob (F-statistic):</th> <td>1.48e-31</td>\n",
       "</tr>\n",
       "<tr>\n",
       "  <th>Time:</th>                 <td>23:32:18</td>     <th>  Log-Likelihood:    </th> <td> -2092.6</td>\n",
       "</tr>\n",
       "<tr>\n",
       "  <th>No. Observations:</th>      <td>   600</td>      <th>  AIC:               </th> <td>   4585.</td>\n",
       "</tr>\n",
       "<tr>\n",
       "  <th>Df Residuals:</th>          <td>   400</td>      <th>  BIC:               </th> <td>   5465.</td>\n",
       "</tr>\n",
       "<tr>\n",
       "  <th>Df Model:</th>              <td>   199</td>      <th>                     </th>     <td> </td>   \n",
       "</tr>\n",
       "<tr>\n",
       "  <th>Covariance Type:</th>      <td>nonrobust</td>    <th>                     </th>     <td> </td>   \n",
       "</tr>\n",
       "</table>\n",
       "<table class=\"simpletable\">\n",
       "<tr>\n",
       "                       <td></td>                          <th>coef</th>     <th>std err</th>      <th>t</th>      <th>P>|t|</th>  <th>[0.025</th>    <th>0.975]</th>  \n",
       "</tr>\n",
       "<tr>\n",
       "  <th>Intercept</th>                                   <td>    3.7901</td> <td>    7.016</td> <td>    0.540</td> <td> 0.589</td> <td>  -10.002</td> <td>   17.582</td>\n",
       "</tr>\n",
       "<tr>\n",
       "  <th>country[T.Antigua and Barbuda]</th>              <td>   -3.4935</td> <td>    9.922</td> <td>   -0.352</td> <td> 0.725</td> <td>  -22.999</td> <td>   16.012</td>\n",
       "</tr>\n",
       "<tr>\n",
       "  <th>country[T.Argentina]</th>                        <td>    0.7579</td> <td>    9.922</td> <td>    0.076</td> <td> 0.939</td> <td>  -18.747</td> <td>   20.263</td>\n",
       "</tr>\n",
       "<tr>\n",
       "  <th>country[T.Armenia]</th>                          <td>   -3.1720</td> <td>    9.922</td> <td>   -0.320</td> <td> 0.749</td> <td>  -22.677</td> <td>   16.333</td>\n",
       "</tr>\n",
       "<tr>\n",
       "  <th>country[T.Aruba]</th>                            <td>    1.3965</td> <td>    9.922</td> <td>    0.141</td> <td> 0.888</td> <td>  -18.109</td> <td>   20.901</td>\n",
       "</tr>\n",
       "<tr>\n",
       "  <th>country[T.Australia]</th>                        <td>    9.5408</td> <td>    9.922</td> <td>    0.962</td> <td> 0.337</td> <td>   -9.964</td> <td>   29.046</td>\n",
       "</tr>\n",
       "<tr>\n",
       "  <th>country[T.Austria]</th>                          <td>    1.6436</td> <td>    9.922</td> <td>    0.166</td> <td> 0.869</td> <td>  -17.861</td> <td>   21.149</td>\n",
       "</tr>\n",
       "<tr>\n",
       "  <th>country[T.Azerbaijan]</th>                       <td>   -2.6373</td> <td>    9.922</td> <td>   -0.266</td> <td> 0.791</td> <td>  -22.142</td> <td>   16.868</td>\n",
       "</tr>\n",
       "<tr>\n",
       "  <th>country[T.Bahamas]</th>                          <td>   -2.0054</td> <td>    9.922</td> <td>   -0.202</td> <td> 0.840</td> <td>  -21.510</td> <td>   17.500</td>\n",
       "</tr>\n",
       "<tr>\n",
       "  <th>country[T.Bahrain]</th>                          <td>   -0.4134</td> <td>    9.922</td> <td>   -0.042</td> <td> 0.967</td> <td>  -19.918</td> <td>   19.092</td>\n",
       "</tr>\n",
       "<tr>\n",
       "  <th>country[T.Barbados]</th>                         <td>   -0.8527</td> <td>    9.922</td> <td>   -0.086</td> <td> 0.932</td> <td>  -20.358</td> <td>   18.652</td>\n",
       "</tr>\n",
       "<tr>\n",
       "  <th>country[T.Belarus]</th>                          <td>   18.0912</td> <td>    9.922</td> <td>    1.823</td> <td> 0.069</td> <td>   -1.414</td> <td>   37.596</td>\n",
       "</tr>\n",
       "<tr>\n",
       "  <th>country[T.Belgium]</th>                          <td>    6.0312</td> <td>    9.922</td> <td>    0.608</td> <td> 0.544</td> <td>  -13.474</td> <td>   25.536</td>\n",
       "</tr>\n",
       "<tr>\n",
       "  <th>country[T.Belize]</th>                           <td>    2.2073</td> <td>    9.922</td> <td>    0.222</td> <td> 0.824</td> <td>  -17.298</td> <td>   21.712</td>\n",
       "</tr>\n",
       "<tr>\n",
       "  <th>country[T.Bosnia and Herzegovina]</th>           <td>   -3.7371</td> <td>    9.922</td> <td>   -0.377</td> <td> 0.707</td> <td>  -23.242</td> <td>   15.768</td>\n",
       "</tr>\n",
       "<tr>\n",
       "  <th>country[T.Brazil]</th>                           <td>   -0.2132</td> <td>    9.922</td> <td>   -0.021</td> <td> 0.983</td> <td>  -19.718</td> <td>   19.292</td>\n",
       "</tr>\n",
       "<tr>\n",
       "  <th>country[T.Bulgaria]</th>                         <td>   -5.1918</td> <td>    9.922</td> <td>   -0.523</td> <td> 0.601</td> <td>  -24.697</td> <td>   14.313</td>\n",
       "</tr>\n",
       "<tr>\n",
       "  <th>country[T.Cabo Verde]</th>                       <td>    3.5468</td> <td>    9.922</td> <td>    0.357</td> <td> 0.721</td> <td>  -15.958</td> <td>   23.052</td>\n",
       "</tr>\n",
       "<tr>\n",
       "  <th>country[T.Canada]</th>                           <td>    9.2917</td> <td>    9.922</td> <td>    0.937</td> <td> 0.350</td> <td>  -10.213</td> <td>   28.797</td>\n",
       "</tr>\n",
       "<tr>\n",
       "  <th>country[T.Chile]</th>                            <td>    4.4980</td> <td>    9.922</td> <td>    0.453</td> <td> 0.651</td> <td>  -15.007</td> <td>   24.003</td>\n",
       "</tr>\n",
       "<tr>\n",
       "  <th>country[T.Colombia]</th>                         <td>    1.7658</td> <td>    9.922</td> <td>    0.178</td> <td> 0.859</td> <td>  -17.739</td> <td>   21.271</td>\n",
       "</tr>\n",
       "<tr>\n",
       "  <th>country[T.Costa Rica]</th>                       <td>    3.5158</td> <td>    9.922</td> <td>    0.354</td> <td> 0.723</td> <td>  -15.989</td> <td>   23.021</td>\n",
       "</tr>\n",
       "<tr>\n",
       "  <th>country[T.Croatia]</th>                          <td>   -1.4016</td> <td>    9.922</td> <td>   -0.141</td> <td> 0.888</td> <td>  -20.907</td> <td>   18.103</td>\n",
       "</tr>\n",
       "<tr>\n",
       "  <th>country[T.Cuba]</th>                             <td>   -2.7051</td> <td>    9.922</td> <td>   -0.273</td> <td> 0.785</td> <td>  -22.210</td> <td>   16.800</td>\n",
       "</tr>\n",
       "<tr>\n",
       "  <th>country[T.Cyprus]</th>                           <td>   -0.3025</td> <td>    9.922</td> <td>   -0.030</td> <td> 0.976</td> <td>  -19.808</td> <td>   19.203</td>\n",
       "</tr>\n",
       "<tr>\n",
       "  <th>country[T.Czech Republic]</th>                   <td>    1.6148</td> <td>    9.922</td> <td>    0.163</td> <td> 0.871</td> <td>  -17.890</td> <td>   21.120</td>\n",
       "</tr>\n",
       "<tr>\n",
       "  <th>country[T.Denmark]</th>                          <td>    0.0163</td> <td>    9.922</td> <td>    0.002</td> <td> 0.999</td> <td>  -19.489</td> <td>   19.521</td>\n",
       "</tr>\n",
       "<tr>\n",
       "  <th>country[T.Dominica]</th>                         <td>   -3.7901</td> <td>    9.922</td> <td>   -0.382</td> <td> 0.703</td> <td>  -23.295</td> <td>   15.715</td>\n",
       "</tr>\n",
       "<tr>\n",
       "  <th>country[T.Ecuador]</th>                          <td>    4.2735</td> <td>    9.922</td> <td>    0.431</td> <td> 0.667</td> <td>  -15.232</td> <td>   23.779</td>\n",
       "</tr>\n",
       "<tr>\n",
       "  <th>country[T.El Salvador]</th>                      <td>   10.4777</td> <td>    9.922</td> <td>    1.056</td> <td> 0.292</td> <td>   -9.027</td> <td>   29.983</td>\n",
       "</tr>\n",
       "<tr>\n",
       "  <th>country[T.Estonia]</th>                          <td>   10.8111</td> <td>    9.922</td> <td>    1.090</td> <td> 0.277</td> <td>   -8.694</td> <td>   30.316</td>\n",
       "</tr>\n",
       "<tr>\n",
       "  <th>country[T.Fiji]</th>                             <td>   -0.8400</td> <td>    9.922</td> <td>   -0.085</td> <td> 0.933</td> <td>  -20.345</td> <td>   18.665</td>\n",
       "</tr>\n",
       "<tr>\n",
       "  <th>country[T.Finland]</th>                          <td>   17.7672</td> <td>    9.922</td> <td>    1.791</td> <td> 0.074</td> <td>   -1.738</td> <td>   37.272</td>\n",
       "</tr>\n",
       "<tr>\n",
       "  <th>country[T.France]</th>                           <td>    1.9475</td> <td>    9.922</td> <td>    0.196</td> <td> 0.844</td> <td>  -17.558</td> <td>   21.452</td>\n",
       "</tr>\n",
       "<tr>\n",
       "  <th>country[T.Georgia]</th>                          <td>   -2.5470</td> <td>    9.922</td> <td>   -0.257</td> <td> 0.798</td> <td>  -22.052</td> <td>   16.958</td>\n",
       "</tr>\n",
       "<tr>\n",
       "  <th>country[T.Germany]</th>                          <td>   -0.7858</td> <td>    9.922</td> <td>   -0.079</td> <td> 0.937</td> <td>  -20.291</td> <td>   18.719</td>\n",
       "</tr>\n",
       "<tr>\n",
       "  <th>country[T.Greece]</th>                           <td>   -1.9022</td> <td>    9.922</td> <td>   -0.192</td> <td> 0.848</td> <td>  -21.407</td> <td>   17.603</td>\n",
       "</tr>\n",
       "<tr>\n",
       "  <th>country[T.Grenada]</th>                          <td>   -2.4086</td> <td>    9.922</td> <td>   -0.243</td> <td> 0.808</td> <td>  -21.914</td> <td>   17.096</td>\n",
       "</tr>\n",
       "<tr>\n",
       "  <th>country[T.Guatemala]</th>                        <td>   -0.2609</td> <td>    9.922</td> <td>   -0.026</td> <td> 0.979</td> <td>  -19.766</td> <td>   19.244</td>\n",
       "</tr>\n",
       "<tr>\n",
       "  <th>country[T.Guyana]</th>                           <td>   22.0765</td> <td>    9.922</td> <td>    2.225</td> <td> 0.027</td> <td>    2.571</td> <td>   41.582</td>\n",
       "</tr>\n",
       "<tr>\n",
       "  <th>country[T.Hungary]</th>                          <td>    0.6397</td> <td>    9.922</td> <td>    0.064</td> <td> 0.949</td> <td>  -18.865</td> <td>   20.145</td>\n",
       "</tr>\n",
       "<tr>\n",
       "  <th>country[T.Iceland]</th>                          <td>   10.0569</td> <td>    9.922</td> <td>    1.014</td> <td> 0.311</td> <td>   -9.448</td> <td>   29.562</td>\n",
       "</tr>\n",
       "<tr>\n",
       "  <th>country[T.Ireland]</th>                          <td>   10.4785</td> <td>    9.922</td> <td>    1.056</td> <td> 0.292</td> <td>   -9.027</td> <td>   29.984</td>\n",
       "</tr>\n",
       "<tr>\n",
       "  <th>country[T.Israel]</th>                           <td>   -0.9478</td> <td>    9.922</td> <td>   -0.096</td> <td> 0.924</td> <td>  -20.453</td> <td>   18.557</td>\n",
       "</tr>\n",
       "<tr>\n",
       "  <th>country[T.Italy]</th>                            <td>   -2.2910</td> <td>    9.922</td> <td>   -0.231</td> <td> 0.818</td> <td>  -21.796</td> <td>   17.214</td>\n",
       "</tr>\n",
       "<tr>\n",
       "  <th>country[T.Jamaica]</th>                          <td>   -3.4126</td> <td>    9.922</td> <td>   -0.344</td> <td> 0.731</td> <td>  -22.918</td> <td>   16.092</td>\n",
       "</tr>\n",
       "<tr>\n",
       "  <th>country[T.Japan]</th>                            <td>    5.7600</td> <td>    9.922</td> <td>    0.581</td> <td> 0.562</td> <td>  -13.745</td> <td>   25.265</td>\n",
       "</tr>\n",
       "<tr>\n",
       "  <th>country[T.Kazakhstan]</th>                       <td>   22.5236</td> <td>    9.922</td> <td>    2.270</td> <td> 0.024</td> <td>    3.019</td> <td>   42.029</td>\n",
       "</tr>\n",
       "<tr>\n",
       "  <th>country[T.Kiribati]</th>                         <td>    8.6301</td> <td>    9.922</td> <td>    0.870</td> <td> 0.385</td> <td>  -10.875</td> <td>   28.135</td>\n",
       "</tr>\n",
       "<tr>\n",
       "  <th>country[T.Kuwait]</th>                           <td>   -1.5556</td> <td>    9.922</td> <td>   -0.157</td> <td> 0.875</td> <td>  -21.061</td> <td>   17.949</td>\n",
       "</tr>\n",
       "<tr>\n",
       "  <th>country[T.Kyrgyzstan]</th>                       <td>    6.8975</td> <td>    9.922</td> <td>    0.695</td> <td> 0.487</td> <td>  -12.608</td> <td>   26.402</td>\n",
       "</tr>\n",
       "<tr>\n",
       "  <th>country[T.Latvia]</th>                           <td>   12.3172</td> <td>    9.922</td> <td>    1.241</td> <td> 0.215</td> <td>   -7.188</td> <td>   31.822</td>\n",
       "</tr>\n",
       "<tr>\n",
       "  <th>country[T.Lithuania]</th>                        <td>   26.8020</td> <td>    9.922</td> <td>    2.701</td> <td> 0.007</td> <td>    7.297</td> <td>   46.307</td>\n",
       "</tr>\n",
       "<tr>\n",
       "  <th>country[T.Luxembourg]</th>                       <td>    2.5264</td> <td>    9.922</td> <td>    0.255</td> <td> 0.799</td> <td>  -16.979</td> <td>   22.031</td>\n",
       "</tr>\n",
       "<tr>\n",
       "  <th>country[T.Macau]</th>                            <td>   -7.2784</td> <td>    9.922</td> <td>   -0.734</td> <td> 0.464</td> <td>  -26.783</td> <td>   12.227</td>\n",
       "</tr>\n",
       "<tr>\n",
       "  <th>country[T.Maldives]</th>                         <td>   -3.7367</td> <td>    9.922</td> <td>   -0.377</td> <td> 0.707</td> <td>  -23.242</td> <td>   15.768</td>\n",
       "</tr>\n",
       "<tr>\n",
       "  <th>country[T.Malta]</th>                            <td>    0.6019</td> <td>    9.922</td> <td>    0.061</td> <td> 0.952</td> <td>  -18.903</td> <td>   20.107</td>\n",
       "</tr>\n",
       "<tr>\n",
       "  <th>country[T.Mauritius]</th>                        <td>   10.9187</td> <td>    9.922</td> <td>    1.100</td> <td> 0.272</td> <td>   -8.586</td> <td>   30.424</td>\n",
       "</tr>\n",
       "<tr>\n",
       "  <th>country[T.Mexico]</th>                           <td>    0.3616</td> <td>    9.922</td> <td>    0.036</td> <td> 0.971</td> <td>  -19.143</td> <td>   19.867</td>\n",
       "</tr>\n",
       "<tr>\n",
       "  <th>country[T.Montenegro]</th>                       <td>   -4.2092</td> <td>    9.922</td> <td>   -0.424</td> <td> 0.672</td> <td>  -23.714</td> <td>   15.296</td>\n",
       "</tr>\n",
       "<tr>\n",
       "  <th>country[T.Netherlands]</th>                      <td>    2.3495</td> <td>    9.922</td> <td>    0.237</td> <td> 0.813</td> <td>  -17.156</td> <td>   21.854</td>\n",
       "</tr>\n",
       "<tr>\n",
       "  <th>country[T.New Zealand]</th>                      <td>   14.1527</td> <td>    9.922</td> <td>    1.426</td> <td> 0.155</td> <td>   -5.352</td> <td>   33.658</td>\n",
       "</tr>\n",
       "<tr>\n",
       "  <th>country[T.Nicaragua]</th>                        <td>    4.8709</td> <td>    9.922</td> <td>    0.491</td> <td> 0.624</td> <td>  -14.634</td> <td>   24.376</td>\n",
       "</tr>\n",
       "<tr>\n",
       "  <th>country[T.Norway]</th>                           <td>    8.9956</td> <td>    9.922</td> <td>    0.907</td> <td> 0.365</td> <td>  -10.509</td> <td>   28.501</td>\n",
       "</tr>\n",
       "<tr>\n",
       "  <th>country[T.Oman]</th>                             <td>   -3.9978</td> <td>    9.922</td> <td>   -0.403</td> <td> 0.687</td> <td>  -23.503</td> <td>   15.507</td>\n",
       "</tr>\n",
       "<tr>\n",
       "  <th>country[T.Panama]</th>                           <td>    1.2704</td> <td>    9.922</td> <td>    0.128</td> <td> 0.898</td> <td>  -18.235</td> <td>   20.775</td>\n",
       "</tr>\n",
       "<tr>\n",
       "  <th>country[T.Paraguay]</th>                         <td>    0.4288</td> <td>    9.922</td> <td>    0.043</td> <td> 0.966</td> <td>  -19.076</td> <td>   19.934</td>\n",
       "</tr>\n",
       "<tr>\n",
       "  <th>country[T.Philippines]</th>                      <td>   -1.5802</td> <td>    9.922</td> <td>   -0.159</td> <td> 0.874</td> <td>  -21.085</td> <td>   17.925</td>\n",
       "</tr>\n",
       "<tr>\n",
       "  <th>country[T.Poland]</th>                           <td>    8.4830</td> <td>    9.922</td> <td>    0.855</td> <td> 0.393</td> <td>  -11.022</td> <td>   27.988</td>\n",
       "</tr>\n",
       "<tr>\n",
       "  <th>country[T.Portugal]</th>                         <td>   -4.2340</td> <td>    9.922</td> <td>   -0.427</td> <td> 0.670</td> <td>  -23.739</td> <td>   15.271</td>\n",
       "</tr>\n",
       "<tr>\n",
       "  <th>country[T.Puerto Rico]</th>                      <td>    1.4559</td> <td>    9.922</td> <td>    0.147</td> <td> 0.883</td> <td>  -18.049</td> <td>   20.961</td>\n",
       "</tr>\n",
       "<tr>\n",
       "  <th>country[T.Qatar]</th>                            <td>   -1.6113</td> <td>    9.922</td> <td>   -0.162</td> <td> 0.871</td> <td>  -21.116</td> <td>   17.894</td>\n",
       "</tr>\n",
       "<tr>\n",
       "  <th>country[T.Republic of Korea]</th>                <td>   -1.5467</td> <td>    9.922</td> <td>   -0.156</td> <td> 0.876</td> <td>  -21.052</td> <td>   17.958</td>\n",
       "</tr>\n",
       "<tr>\n",
       "  <th>country[T.Romania]</th>                          <td>    3.1865</td> <td>    9.922</td> <td>    0.321</td> <td> 0.748</td> <td>  -16.319</td> <td>   22.692</td>\n",
       "</tr>\n",
       "<tr>\n",
       "  <th>country[T.Russian Federation]</th>               <td>   22.3390</td> <td>    9.922</td> <td>    2.252</td> <td> 0.025</td> <td>    2.834</td> <td>   41.844</td>\n",
       "</tr>\n",
       "<tr>\n",
       "  <th>country[T.Saint Kitts and Nevis]</th>            <td>   -3.7901</td> <td>    9.922</td> <td>   -0.382</td> <td> 0.703</td> <td>  -23.295</td> <td>   15.715</td>\n",
       "</tr>\n",
       "<tr>\n",
       "  <th>country[T.Saint Lucia]</th>                      <td>    1.7803</td> <td>    9.922</td> <td>    0.179</td> <td> 0.858</td> <td>  -17.725</td> <td>   21.285</td>\n",
       "</tr>\n",
       "<tr>\n",
       "  <th>country[T.Saint Vincent and Grenadines]</th>     <td>    1.1949</td> <td>    9.922</td> <td>    0.120</td> <td> 0.904</td> <td>  -18.310</td> <td>   20.700</td>\n",
       "</tr>\n",
       "<tr>\n",
       "  <th>country[T.San Marino]</th>                       <td>   -0.3791</td> <td>    9.922</td> <td>   -0.038</td> <td> 0.970</td> <td>  -19.884</td> <td>   19.126</td>\n",
       "</tr>\n",
       "<tr>\n",
       "  <th>country[T.Serbia]</th>                           <td>   -5.8430</td> <td>    9.922</td> <td>   -0.589</td> <td> 0.556</td> <td>  -25.348</td> <td>   13.662</td>\n",
       "</tr>\n",
       "<tr>\n",
       "  <th>country[T.Seychelles]</th>                       <td>    2.4219</td> <td>    9.922</td> <td>    0.244</td> <td> 0.807</td> <td>  -17.083</td> <td>   21.927</td>\n",
       "</tr>\n",
       "<tr>\n",
       "  <th>country[T.Singapore]</th>                        <td>   -4.3616</td> <td>    9.922</td> <td>   -0.440</td> <td> 0.660</td> <td>  -23.867</td> <td>   15.143</td>\n",
       "</tr>\n",
       "<tr>\n",
       "  <th>country[T.Slovakia]</th>                         <td>    2.6115</td> <td>    9.922</td> <td>    0.263</td> <td> 0.793</td> <td>  -16.894</td> <td>   22.117</td>\n",
       "</tr>\n",
       "<tr>\n",
       "  <th>country[T.Slovenia]</th>                         <td>    3.3633</td> <td>    9.922</td> <td>    0.339</td> <td> 0.735</td> <td>  -16.142</td> <td>   22.868</td>\n",
       "</tr>\n",
       "<tr>\n",
       "  <th>country[T.South Africa]</th>                     <td>   -2.8587</td> <td>    9.922</td> <td>   -0.288</td> <td> 0.773</td> <td>  -22.364</td> <td>   16.646</td>\n",
       "</tr>\n",
       "<tr>\n",
       "  <th>country[T.Spain]</th>                            <td>   -2.4631</td> <td>    9.922</td> <td>   -0.248</td> <td> 0.804</td> <td>  -21.968</td> <td>   17.042</td>\n",
       "</tr>\n",
       "<tr>\n",
       "  <th>country[T.Sri Lanka]</th>                        <td>   27.1731</td> <td>    9.922</td> <td>    2.739</td> <td> 0.006</td> <td>    7.668</td> <td>   46.678</td>\n",
       "</tr>\n",
       "<tr>\n",
       "  <th>country[T.Suriname]</th>                         <td>   14.1070</td> <td>    9.922</td> <td>    1.422</td> <td> 0.156</td> <td>   -5.398</td> <td>   33.612</td>\n",
       "</tr>\n",
       "<tr>\n",
       "  <th>country[T.Sweden]</th>                           <td>    5.2236</td> <td>    9.922</td> <td>    0.526</td> <td> 0.599</td> <td>  -14.281</td> <td>   24.729</td>\n",
       "</tr>\n",
       "<tr>\n",
       "  <th>country[T.Switzerland]</th>                      <td>    1.1778</td> <td>    9.922</td> <td>    0.119</td> <td> 0.906</td> <td>  -18.327</td> <td>   20.683</td>\n",
       "</tr>\n",
       "<tr>\n",
       "  <th>country[T.Thailand]</th>                         <td>    3.8760</td> <td>    9.922</td> <td>    0.391</td> <td> 0.696</td> <td>  -15.629</td> <td>   23.381</td>\n",
       "</tr>\n",
       "<tr>\n",
       "  <th>country[T.Trinidad and Tobago]</th>              <td>   10.3609</td> <td>    9.922</td> <td>    1.044</td> <td> 0.297</td> <td>   -9.144</td> <td>   29.866</td>\n",
       "</tr>\n",
       "<tr>\n",
       "  <th>country[T.Turkey]</th>                           <td>   -1.9145</td> <td>    9.922</td> <td>   -0.193</td> <td> 0.847</td> <td>  -21.419</td> <td>   17.591</td>\n",
       "</tr>\n",
       "<tr>\n",
       "  <th>country[T.Turkmenistan]</th>                     <td>    6.0753</td> <td>    9.922</td> <td>    0.612</td> <td> 0.541</td> <td>  -13.430</td> <td>   25.580</td>\n",
       "</tr>\n",
       "<tr>\n",
       "  <th>country[T.Ukraine]</th>                          <td>   10.5470</td> <td>    9.922</td> <td>    1.063</td> <td> 0.288</td> <td>   -8.958</td> <td>   30.052</td>\n",
       "</tr>\n",
       "<tr>\n",
       "  <th>country[T.United Arab Emirates]</th>             <td>   -2.1101</td> <td>    9.922</td> <td>   -0.213</td> <td> 0.832</td> <td>  -21.615</td> <td>   17.395</td>\n",
       "</tr>\n",
       "<tr>\n",
       "  <th>country[T.United Kingdom]</th>                   <td>    3.3912</td> <td>    9.922</td> <td>    0.342</td> <td> 0.733</td> <td>  -16.114</td> <td>   22.896</td>\n",
       "</tr>\n",
       "<tr>\n",
       "  <th>country[T.United States]</th>                    <td>    5.9803</td> <td>    9.922</td> <td>    0.603</td> <td> 0.547</td> <td>  -13.525</td> <td>   25.485</td>\n",
       "</tr>\n",
       "<tr>\n",
       "  <th>country[T.Uruguay]</th>                          <td>    2.6167</td> <td>    9.922</td> <td>    0.264</td> <td> 0.792</td> <td>  -16.888</td> <td>   22.122</td>\n",
       "</tr>\n",
       "<tr>\n",
       "  <th>country[T.Uzbekistan]</th>                       <td>    5.1062</td> <td>    9.922</td> <td>    0.515</td> <td> 0.607</td> <td>  -14.399</td> <td>   24.611</td>\n",
       "</tr>\n",
       "<tr>\n",
       "  <th>age</th>                                         <td>   -0.1149</td> <td>    2.317</td> <td>   -0.050</td> <td> 0.960</td> <td>   -4.670</td> <td>    4.441</td>\n",
       "</tr>\n",
       "<tr>\n",
       "  <th>country[T.Antigua and Barbuda]:age</th>          <td>    0.2174</td> <td>    3.277</td> <td>    0.066</td> <td> 0.947</td> <td>   -6.225</td> <td>    6.660</td>\n",
       "</tr>\n",
       "<tr>\n",
       "  <th>country[T.Argentina]:age</th>                    <td>    2.4834</td> <td>    3.277</td> <td>    0.758</td> <td> 0.449</td> <td>   -3.959</td> <td>    8.926</td>\n",
       "</tr>\n",
       "<tr>\n",
       "  <th>country[T.Armenia]:age</th>                      <td>    1.1672</td> <td>    3.277</td> <td>    0.356</td> <td> 0.722</td> <td>   -5.275</td> <td>    7.609</td>\n",
       "</tr>\n",
       "<tr>\n",
       "  <th>country[T.Aruba]:age</th>                        <td>    1.8415</td> <td>    3.277</td> <td>    0.562</td> <td> 0.574</td> <td>   -4.601</td> <td>    8.284</td>\n",
       "</tr>\n",
       "<tr>\n",
       "  <th>country[T.Australia]:age</th>                    <td>   -0.0204</td> <td>    3.277</td> <td>   -0.006</td> <td> 0.995</td> <td>   -6.463</td> <td>    6.422</td>\n",
       "</tr>\n",
       "<tr>\n",
       "  <th>country[T.Austria]:age</th>                      <td>    7.5038</td> <td>    3.277</td> <td>    2.290</td> <td> 0.023</td> <td>    1.061</td> <td>   13.946</td>\n",
       "</tr>\n",
       "<tr>\n",
       "  <th>country[T.Azerbaijan]:age</th>                   <td>    0.3960</td> <td>    3.277</td> <td>    0.121</td> <td> 0.904</td> <td>   -6.046</td> <td>    6.838</td>\n",
       "</tr>\n",
       "<tr>\n",
       "  <th>country[T.Bahamas]:age</th>                      <td>   -0.1000</td> <td>    3.277</td> <td>   -0.031</td> <td> 0.976</td> <td>   -6.542</td> <td>    6.342</td>\n",
       "</tr>\n",
       "<tr>\n",
       "  <th>country[T.Bahrain]:age</th>                      <td>   -0.4942</td> <td>    3.277</td> <td>   -0.151</td> <td> 0.880</td> <td>   -6.936</td> <td>    5.948</td>\n",
       "</tr>\n",
       "<tr>\n",
       "  <th>country[T.Barbados]:age</th>                     <td>    0.1281</td> <td>    3.277</td> <td>    0.039</td> <td> 0.969</td> <td>   -6.314</td> <td>    6.570</td>\n",
       "</tr>\n",
       "<tr>\n",
       "  <th>country[T.Belarus]:age</th>                      <td>    3.7927</td> <td>    3.277</td> <td>    1.157</td> <td> 0.248</td> <td>   -2.650</td> <td>   10.235</td>\n",
       "</tr>\n",
       "<tr>\n",
       "  <th>country[T.Belgium]:age</th>                      <td>    4.6815</td> <td>    3.277</td> <td>    1.429</td> <td> 0.154</td> <td>   -1.761</td> <td>   11.124</td>\n",
       "</tr>\n",
       "<tr>\n",
       "  <th>country[T.Belize]:age</th>                       <td>    0.2082</td> <td>    3.277</td> <td>    0.064</td> <td> 0.949</td> <td>   -6.234</td> <td>    6.650</td>\n",
       "</tr>\n",
       "<tr>\n",
       "  <th>country[T.Bosnia and Herzegovina]:age</th>       <td>    1.9405</td> <td>    3.277</td> <td>    0.592</td> <td> 0.554</td> <td>   -4.502</td> <td>    8.383</td>\n",
       "</tr>\n",
       "<tr>\n",
       "  <th>country[T.Brazil]:age</th>                       <td>    1.0225</td> <td>    3.277</td> <td>    0.312</td> <td> 0.755</td> <td>   -5.420</td> <td>    7.465</td>\n",
       "</tr>\n",
       "<tr>\n",
       "  <th>country[T.Bulgaria]:age</th>                     <td>    8.4712</td> <td>    3.277</td> <td>    2.585</td> <td> 0.010</td> <td>    2.029</td> <td>   14.914</td>\n",
       "</tr>\n",
       "<tr>\n",
       "  <th>country[T.Cabo Verde]:age</th>                   <td>    1.6415</td> <td>    3.277</td> <td>    0.501</td> <td> 0.617</td> <td>   -4.801</td> <td>    8.084</td>\n",
       "</tr>\n",
       "<tr>\n",
       "  <th>country[T.Canada]:age</th>                       <td>   -0.1308</td> <td>    3.277</td> <td>   -0.040</td> <td> 0.968</td> <td>   -6.573</td> <td>    6.311</td>\n",
       "</tr>\n",
       "<tr>\n",
       "  <th>country[T.Chile]:age</th>                        <td>    1.0165</td> <td>    3.277</td> <td>    0.310</td> <td> 0.757</td> <td>   -5.426</td> <td>    7.459</td>\n",
       "</tr>\n",
       "<tr>\n",
       "  <th>country[T.Colombia]:age</th>                     <td>    0.0532</td> <td>    3.277</td> <td>    0.016</td> <td> 0.987</td> <td>   -6.389</td> <td>    6.495</td>\n",
       "</tr>\n",
       "<tr>\n",
       "  <th>country[T.Costa Rica]:age</th>                   <td>    0.0300</td> <td>    3.277</td> <td>    0.009</td> <td> 0.993</td> <td>   -6.412</td> <td>    6.472</td>\n",
       "</tr>\n",
       "<tr>\n",
       "  <th>country[T.Croatia]:age</th>                      <td>    8.3171</td> <td>    3.277</td> <td>    2.538</td> <td> 0.012</td> <td>    1.875</td> <td>   14.759</td>\n",
       "</tr>\n",
       "<tr>\n",
       "  <th>country[T.Cuba]:age</th>                         <td>    8.1697</td> <td>    3.277</td> <td>    2.493</td> <td> 0.013</td> <td>    1.727</td> <td>   14.612</td>\n",
       "</tr>\n",
       "<tr>\n",
       "  <th>country[T.Cyprus]:age</th>                       <td>    0.0034</td> <td>    3.277</td> <td>    0.001</td> <td> 0.999</td> <td>   -6.439</td> <td>    6.446</td>\n",
       "</tr>\n",
       "<tr>\n",
       "  <th>country[T.Czech Republic]:age</th>               <td>    5.3776</td> <td>    3.277</td> <td>    1.641</td> <td> 0.102</td> <td>   -1.065</td> <td>   11.820</td>\n",
       "</tr>\n",
       "<tr>\n",
       "  <th>country[T.Denmark]:age</th>                      <td>    4.2312</td> <td>    3.277</td> <td>    1.291</td> <td> 0.197</td> <td>   -2.211</td> <td>   10.673</td>\n",
       "</tr>\n",
       "<tr>\n",
       "  <th>country[T.Dominica]:age</th>                     <td>    0.1149</td> <td>    3.277</td> <td>    0.035</td> <td> 0.972</td> <td>   -6.327</td> <td>    6.557</td>\n",
       "</tr>\n",
       "<tr>\n",
       "  <th>country[T.Ecuador]:age</th>                      <td>   -0.5888</td> <td>    3.277</td> <td>   -0.180</td> <td> 0.857</td> <td>   -7.031</td> <td>    5.853</td>\n",
       "</tr>\n",
       "<tr>\n",
       "  <th>country[T.El Salvador]:age</th>                  <td>   -1.3757</td> <td>    3.277</td> <td>   -0.420</td> <td> 0.675</td> <td>   -7.818</td> <td>    5.067</td>\n",
       "</tr>\n",
       "<tr>\n",
       "  <th>country[T.Estonia]:age</th>                      <td>    5.1852</td> <td>    3.277</td> <td>    1.582</td> <td> 0.114</td> <td>   -1.257</td> <td>   11.627</td>\n",
       "</tr>\n",
       "<tr>\n",
       "  <th>country[T.Fiji]:age</th>                         <td>    0.9769</td> <td>    3.277</td> <td>    0.298</td> <td> 0.766</td> <td>   -5.465</td> <td>    7.419</td>\n",
       "</tr>\n",
       "<tr>\n",
       "  <th>country[T.Finland]:age</th>                      <td>    0.6001</td> <td>    3.277</td> <td>    0.183</td> <td> 0.855</td> <td>   -5.842</td> <td>    7.042</td>\n",
       "</tr>\n",
       "<tr>\n",
       "  <th>country[T.France]:age</th>                       <td>    6.4901</td> <td>    3.277</td> <td>    1.981</td> <td> 0.048</td> <td>    0.048</td> <td>   12.932</td>\n",
       "</tr>\n",
       "<tr>\n",
       "  <th>country[T.Georgia]:age</th>                      <td>    1.3091</td> <td>    3.277</td> <td>    0.399</td> <td> 0.690</td> <td>   -5.133</td> <td>    7.751</td>\n",
       "</tr>\n",
       "<tr>\n",
       "  <th>country[T.Germany]:age</th>                      <td>    5.1371</td> <td>    3.277</td> <td>    1.568</td> <td> 0.118</td> <td>   -1.305</td> <td>   11.579</td>\n",
       "</tr>\n",
       "<tr>\n",
       "  <th>country[T.Greece]:age</th>                       <td>    0.9857</td> <td>    3.277</td> <td>    0.301</td> <td> 0.764</td> <td>   -5.457</td> <td>    7.428</td>\n",
       "</tr>\n",
       "<tr>\n",
       "  <th>country[T.Grenada]:age</th>                      <td>    0.4436</td> <td>    3.277</td> <td>    0.135</td> <td> 0.892</td> <td>   -5.999</td> <td>    6.886</td>\n",
       "</tr>\n",
       "<tr>\n",
       "  <th>country[T.Guatemala]:age</th>                    <td>   -0.0227</td> <td>    3.277</td> <td>   -0.007</td> <td> 0.994</td> <td>   -6.465</td> <td>    6.420</td>\n",
       "</tr>\n",
       "<tr>\n",
       "  <th>country[T.Guyana]:age</th>                       <td>   -1.3572</td> <td>    3.277</td> <td>   -0.414</td> <td> 0.679</td> <td>   -7.799</td> <td>    5.085</td>\n",
       "</tr>\n",
       "<tr>\n",
       "  <th>country[T.Hungary]:age</th>                      <td>   11.5626</td> <td>    3.277</td> <td>    3.528</td> <td> 0.000</td> <td>    5.120</td> <td>   18.005</td>\n",
       "</tr>\n",
       "<tr>\n",
       "  <th>country[T.Iceland]:age</th>                      <td>   -0.3146</td> <td>    3.277</td> <td>   -0.096</td> <td> 0.924</td> <td>   -6.757</td> <td>    6.128</td>\n",
       "</tr>\n",
       "<tr>\n",
       "  <th>country[T.Ireland]:age</th>                      <td>   -1.2795</td> <td>    3.277</td> <td>   -0.390</td> <td> 0.696</td> <td>   -7.722</td> <td>    5.163</td>\n",
       "</tr>\n",
       "<tr>\n",
       "  <th>country[T.Israel]:age</th>                       <td>    2.5586</td> <td>    3.277</td> <td>    0.781</td> <td> 0.435</td> <td>   -3.884</td> <td>    9.001</td>\n",
       "</tr>\n",
       "<tr>\n",
       "  <th>country[T.Italy]:age</th>                        <td>    2.9226</td> <td>    3.277</td> <td>    0.892</td> <td> 0.373</td> <td>   -3.520</td> <td>    9.365</td>\n",
       "</tr>\n",
       "<tr>\n",
       "  <th>country[T.Jamaica]:age</th>                      <td>    0.1726</td> <td>    3.277</td> <td>    0.053</td> <td> 0.958</td> <td>   -6.270</td> <td>    6.615</td>\n",
       "</tr>\n",
       "<tr>\n",
       "  <th>country[T.Japan]:age</th>                        <td>    4.9241</td> <td>    3.277</td> <td>    1.503</td> <td> 0.134</td> <td>   -1.518</td> <td>   11.366</td>\n",
       "</tr>\n",
       "<tr>\n",
       "  <th>country[T.Kazakhstan]:age</th>                   <td>    1.7939</td> <td>    3.277</td> <td>    0.547</td> <td> 0.584</td> <td>   -4.648</td> <td>    8.236</td>\n",
       "</tr>\n",
       "<tr>\n",
       "  <th>country[T.Kiribati]:age</th>                     <td>   -2.1911</td> <td>    3.277</td> <td>   -0.669</td> <td> 0.504</td> <td>   -8.633</td> <td>    4.251</td>\n",
       "</tr>\n",
       "<tr>\n",
       "  <th>country[T.Kuwait]:age</th>                       <td>   -0.3043</td> <td>    3.277</td> <td>   -0.093</td> <td> 0.926</td> <td>   -6.747</td> <td>    6.138</td>\n",
       "</tr>\n",
       "<tr>\n",
       "  <th>country[T.Kyrgyzstan]:age</th>                   <td>    1.5544</td> <td>    3.277</td> <td>    0.474</td> <td> 0.636</td> <td>   -4.888</td> <td>    7.997</td>\n",
       "</tr>\n",
       "<tr>\n",
       "  <th>country[T.Latvia]:age</th>                       <td>    5.3757</td> <td>    3.277</td> <td>    1.640</td> <td> 0.102</td> <td>   -1.067</td> <td>   11.818</td>\n",
       "</tr>\n",
       "<tr>\n",
       "  <th>country[T.Lithuania]:age</th>                    <td>    4.1116</td> <td>    3.277</td> <td>    1.255</td> <td> 0.210</td> <td>   -2.331</td> <td>   10.554</td>\n",
       "</tr>\n",
       "<tr>\n",
       "  <th>country[T.Luxembourg]:age</th>                   <td>    4.2082</td> <td>    3.277</td> <td>    1.284</td> <td> 0.200</td> <td>   -2.234</td> <td>   10.651</td>\n",
       "</tr>\n",
       "<tr>\n",
       "  <th>country[T.Macau]:age</th>                        <td>    7.2349</td> <td>    3.277</td> <td>    2.208</td> <td> 0.028</td> <td>    0.793</td> <td>   13.677</td>\n",
       "</tr>\n",
       "<tr>\n",
       "  <th>country[T.Maldives]:age</th>                     <td>    0.6405</td> <td>    3.277</td> <td>    0.195</td> <td> 0.845</td> <td>   -5.802</td> <td>    7.083</td>\n",
       "</tr>\n",
       "<tr>\n",
       "  <th>country[T.Malta]:age</th>                        <td>    0.3710</td> <td>    3.277</td> <td>    0.113</td> <td> 0.910</td> <td>   -6.071</td> <td>    6.813</td>\n",
       "</tr>\n",
       "<tr>\n",
       "  <th>country[T.Mauritius]:age</th>                    <td>   -1.0748</td> <td>    3.277</td> <td>   -0.328</td> <td> 0.743</td> <td>   -7.517</td> <td>    5.368</td>\n",
       "</tr>\n",
       "<tr>\n",
       "  <th>country[T.Mexico]:age</th>                       <td>    0.3372</td> <td>    3.277</td> <td>    0.103</td> <td> 0.918</td> <td>   -6.105</td> <td>    6.779</td>\n",
       "</tr>\n",
       "<tr>\n",
       "  <th>country[T.Montenegro]:age</th>                   <td>    4.2626</td> <td>    3.277</td> <td>    1.301</td> <td> 0.194</td> <td>   -2.180</td> <td>   10.705</td>\n",
       "</tr>\n",
       "<tr>\n",
       "  <th>country[T.Netherlands]:age</th>                  <td>    1.8947</td> <td>    3.277</td> <td>    0.578</td> <td> 0.563</td> <td>   -4.548</td> <td>    8.337</td>\n",
       "</tr>\n",
       "<tr>\n",
       "  <th>country[T.New Zealand]:age</th>                  <td>   -1.3056</td> <td>    3.277</td> <td>   -0.398</td> <td> 0.691</td> <td>   -7.748</td> <td>    5.137</td>\n",
       "</tr>\n",
       "<tr>\n",
       "  <th>country[T.Nicaragua]:age</th>                    <td>   -0.7227</td> <td>    3.277</td> <td>   -0.221</td> <td> 0.826</td> <td>   -7.165</td> <td>    5.720</td>\n",
       "</tr>\n",
       "<tr>\n",
       "  <th>country[T.Norway]:age</th>                       <td>    0.1770</td> <td>    3.277</td> <td>    0.054</td> <td> 0.957</td> <td>   -6.265</td> <td>    6.619</td>\n",
       "</tr>\n",
       "<tr>\n",
       "  <th>country[T.Oman]:age</th>                         <td>    0.4924</td> <td>    3.277</td> <td>    0.150</td> <td> 0.881</td> <td>   -5.950</td> <td>    6.935</td>\n",
       "</tr>\n",
       "<tr>\n",
       "  <th>country[T.Panama]:age</th>                       <td>    0.4161</td> <td>    3.277</td> <td>    0.127</td> <td> 0.899</td> <td>   -6.026</td> <td>    6.858</td>\n",
       "</tr>\n",
       "<tr>\n",
       "  <th>country[T.Paraguay]:age</th>                     <td>    0.1142</td> <td>    3.277</td> <td>    0.035</td> <td> 0.972</td> <td>   -6.328</td> <td>    6.557</td>\n",
       "</tr>\n",
       "<tr>\n",
       "  <th>country[T.Philippines]:age</th>                  <td>    0.1994</td> <td>    3.277</td> <td>    0.061</td> <td> 0.951</td> <td>   -6.243</td> <td>    6.642</td>\n",
       "</tr>\n",
       "<tr>\n",
       "  <th>country[T.Poland]:age</th>                       <td>    1.3134</td> <td>    3.277</td> <td>    0.401</td> <td> 0.689</td> <td>   -5.129</td> <td>    7.756</td>\n",
       "</tr>\n",
       "<tr>\n",
       "  <th>country[T.Portugal]:age</th>                     <td>    4.8275</td> <td>    3.277</td> <td>    1.473</td> <td> 0.142</td> <td>   -1.615</td> <td>   11.270</td>\n",
       "</tr>\n",
       "<tr>\n",
       "  <th>country[T.Puerto Rico]:age</th>                  <td>    2.0910</td> <td>    3.277</td> <td>    0.638</td> <td> 0.524</td> <td>   -4.351</td> <td>    8.533</td>\n",
       "</tr>\n",
       "<tr>\n",
       "  <th>country[T.Qatar]:age</th>                        <td>   -0.0382</td> <td>    3.277</td> <td>   -0.012</td> <td> 0.991</td> <td>   -6.481</td> <td>    6.404</td>\n",
       "</tr>\n",
       "<tr>\n",
       "  <th>country[T.Republic of Korea]:age</th>            <td>    9.2718</td> <td>    3.277</td> <td>    2.829</td> <td> 0.005</td> <td>    2.829</td> <td>   15.714</td>\n",
       "</tr>\n",
       "<tr>\n",
       "  <th>country[T.Romania]:age</th>                      <td>    2.3307</td> <td>    3.277</td> <td>    0.711</td> <td> 0.477</td> <td>   -4.112</td> <td>    8.773</td>\n",
       "</tr>\n",
       "<tr>\n",
       "  <th>country[T.Russian Federation]:age</th>           <td>    3.6202</td> <td>    3.277</td> <td>    1.105</td> <td> 0.270</td> <td>   -2.822</td> <td>   10.062</td>\n",
       "</tr>\n",
       "<tr>\n",
       "  <th>country[T.Saint Kitts and Nevis]:age</th>        <td>    0.1149</td> <td>    3.277</td> <td>    0.035</td> <td> 0.972</td> <td>   -6.327</td> <td>    6.557</td>\n",
       "</tr>\n",
       "<tr>\n",
       "  <th>country[T.Saint Lucia]:age</th>                  <td>    0.7678</td> <td>    3.277</td> <td>    0.234</td> <td> 0.815</td> <td>   -5.674</td> <td>    7.210</td>\n",
       "</tr>\n",
       "<tr>\n",
       "  <th>country[T.Saint Vincent and Grenadines]:age</th> <td>    0.4231</td> <td>    3.277</td> <td>    0.129</td> <td> 0.897</td> <td>   -6.019</td> <td>    6.865</td>\n",
       "</tr>\n",
       "<tr>\n",
       "  <th>country[T.San Marino]:age</th>                   <td>    0.3685</td> <td>    3.277</td> <td>    0.112</td> <td> 0.911</td> <td>   -6.074</td> <td>    6.811</td>\n",
       "</tr>\n",
       "<tr>\n",
       "  <th>country[T.Serbia]:age</th>                       <td>    9.8017</td> <td>    3.277</td> <td>    2.991</td> <td> 0.003</td> <td>    3.359</td> <td>   16.244</td>\n",
       "</tr>\n",
       "<tr>\n",
       "  <th>country[T.Seychelles]:age</th>                   <td>    0.6221</td> <td>    3.277</td> <td>    0.190</td> <td> 0.850</td> <td>   -5.820</td> <td>    7.064</td>\n",
       "</tr>\n",
       "<tr>\n",
       "  <th>country[T.Singapore]:age</th>                    <td>    7.1618</td> <td>    3.277</td> <td>    2.185</td> <td> 0.029</td> <td>    0.719</td> <td>   13.604</td>\n",
       "</tr>\n",
       "<tr>\n",
       "  <th>country[T.Slovakia]:age</th>                     <td>    2.5818</td> <td>    3.277</td> <td>    0.788</td> <td> 0.431</td> <td>   -3.861</td> <td>    9.024</td>\n",
       "</tr>\n",
       "<tr>\n",
       "  <th>country[T.Slovenia]:age</th>                     <td>    8.3847</td> <td>    3.277</td> <td>    2.559</td> <td> 0.011</td> <td>    1.942</td> <td>   14.827</td>\n",
       "</tr>\n",
       "<tr>\n",
       "  <th>country[T.South Africa]:age</th>                 <td>    0.1281</td> <td>    3.277</td> <td>    0.039</td> <td> 0.969</td> <td>   -6.314</td> <td>    6.570</td>\n",
       "</tr>\n",
       "<tr>\n",
       "  <th>country[T.Spain]:age</th>                        <td>    3.3573</td> <td>    3.277</td> <td>    1.024</td> <td> 0.306</td> <td>   -3.085</td> <td>    9.800</td>\n",
       "</tr>\n",
       "<tr>\n",
       "  <th>country[T.Sri Lanka]:age</th>                    <td>    1.8477</td> <td>    3.277</td> <td>    0.564</td> <td> 0.573</td> <td>   -4.595</td> <td>    8.290</td>\n",
       "</tr>\n",
       "<tr>\n",
       "  <th>country[T.Suriname]:age</th>                     <td>    1.4826</td> <td>    3.277</td> <td>    0.452</td> <td> 0.651</td> <td>   -4.960</td> <td>    7.925</td>\n",
       "</tr>\n",
       "<tr>\n",
       "  <th>country[T.Sweden]:age</th>                       <td>    2.3817</td> <td>    3.277</td> <td>    0.727</td> <td> 0.468</td> <td>   -4.061</td> <td>    8.824</td>\n",
       "</tr>\n",
       "<tr>\n",
       "  <th>country[T.Switzerland]:age</th>                  <td>    5.7374</td> <td>    3.277</td> <td>    1.751</td> <td> 0.081</td> <td>   -0.705</td> <td>   12.180</td>\n",
       "</tr>\n",
       "<tr>\n",
       "  <th>country[T.Thailand]:age</th>                     <td>   -0.1301</td> <td>    3.277</td> <td>   -0.040</td> <td> 0.968</td> <td>   -6.572</td> <td>    6.312</td>\n",
       "</tr>\n",
       "<tr>\n",
       "  <th>country[T.Trinidad and Tobago]:age</th>          <td>   -0.0153</td> <td>    3.277</td> <td>   -0.005</td> <td> 0.996</td> <td>   -6.458</td> <td>    6.427</td>\n",
       "</tr>\n",
       "<tr>\n",
       "  <th>country[T.Turkey]:age</th>                       <td>    0.3131</td> <td>    3.277</td> <td>    0.096</td> <td> 0.924</td> <td>   -6.129</td> <td>    6.755</td>\n",
       "</tr>\n",
       "<tr>\n",
       "  <th>country[T.Turkmenistan]:age</th>                 <td>   -0.3890</td> <td>    3.277</td> <td>   -0.119</td> <td> 0.906</td> <td>   -6.831</td> <td>    6.053</td>\n",
       "</tr>\n",
       "<tr>\n",
       "  <th>country[T.Ukraine]:age</th>                      <td>    5.0130</td> <td>    3.277</td> <td>    1.530</td> <td> 0.127</td> <td>   -1.429</td> <td>   11.455</td>\n",
       "</tr>\n",
       "<tr>\n",
       "  <th>country[T.United Arab Emirates]:age</th>         <td>   -0.0300</td> <td>    3.277</td> <td>   -0.009</td> <td> 0.993</td> <td>   -6.472</td> <td>    6.412</td>\n",
       "</tr>\n",
       "<tr>\n",
       "  <th>country[T.United Kingdom]:age</th>               <td>    0.2434</td> <td>    3.277</td> <td>    0.074</td> <td> 0.941</td> <td>   -6.199</td> <td>    6.686</td>\n",
       "</tr>\n",
       "<tr>\n",
       "  <th>country[T.United States]:age</th>                <td>    1.7346</td> <td>    3.277</td> <td>    0.529</td> <td> 0.597</td> <td>   -4.708</td> <td>    8.177</td>\n",
       "</tr>\n",
       "<tr>\n",
       "  <th>country[T.Uruguay]:age</th>                      <td>    5.3366</td> <td>    3.277</td> <td>    1.629</td> <td> 0.104</td> <td>   -1.106</td> <td>   11.779</td>\n",
       "</tr>\n",
       "<tr>\n",
       "  <th>country[T.Uzbekistan]:age</th>                   <td>   -0.2040</td> <td>    3.277</td> <td>   -0.062</td> <td> 0.950</td> <td>   -6.646</td> <td>    6.238</td>\n",
       "</tr>\n",
       "</table>\n",
       "<table class=\"simpletable\">\n",
       "<tr>\n",
       "  <th>Omnibus:</th>       <td>237.768</td> <th>  Durbin-Watson:     </th> <td>   0.913</td> \n",
       "</tr>\n",
       "<tr>\n",
       "  <th>Prob(Omnibus):</th> <td> 0.000</td>  <th>  Jarque-Bera (JB):  </th> <td>1196.268</td> \n",
       "</tr>\n",
       "<tr>\n",
       "  <th>Skew:</th>          <td>-1.715</td>  <th>  Prob(JB):          </th> <td>1.71e-260</td>\n",
       "</tr>\n",
       "<tr>\n",
       "  <th>Kurtosis:</th>      <td> 9.007</td>  <th>  Cond. No.          </th> <td>    584.</td> \n",
       "</tr>\n",
       "</table><br/><br/>Notes:<br/>[1] Standard Errors assume that the covariance matrix of the errors is correctly specified."
      ],
      "text/plain": [
       "<class 'statsmodels.iolib.summary.Summary'>\n",
       "\"\"\"\n",
       "                            OLS Regression Results                            \n",
       "==============================================================================\n",
       "Dep. Variable:           suicide_rate   R-squared:                       0.662\n",
       "Model:                            OLS   Adj. R-squared:                  0.494\n",
       "Method:                 Least Squares   F-statistic:                     3.936\n",
       "Date:                Fri, 16 Dec 2022   Prob (F-statistic):           1.48e-31\n",
       "Time:                        23:32:18   Log-Likelihood:                -2092.6\n",
       "No. Observations:                 600   AIC:                             4585.\n",
       "Df Residuals:                     400   BIC:                             5465.\n",
       "Df Model:                         199                                         \n",
       "Covariance Type:            nonrobust                                         \n",
       "===============================================================================================================\n",
       "                                                  coef    std err          t      P>|t|      [0.025      0.975]\n",
       "---------------------------------------------------------------------------------------------------------------\n",
       "Intercept                                       3.7901      7.016      0.540      0.589     -10.002      17.582\n",
       "country[T.Antigua and Barbuda]                 -3.4935      9.922     -0.352      0.725     -22.999      16.012\n",
       "country[T.Argentina]                            0.7579      9.922      0.076      0.939     -18.747      20.263\n",
       "country[T.Armenia]                             -3.1720      9.922     -0.320      0.749     -22.677      16.333\n",
       "country[T.Aruba]                                1.3965      9.922      0.141      0.888     -18.109      20.901\n",
       "country[T.Australia]                            9.5408      9.922      0.962      0.337      -9.964      29.046\n",
       "country[T.Austria]                              1.6436      9.922      0.166      0.869     -17.861      21.149\n",
       "country[T.Azerbaijan]                          -2.6373      9.922     -0.266      0.791     -22.142      16.868\n",
       "country[T.Bahamas]                             -2.0054      9.922     -0.202      0.840     -21.510      17.500\n",
       "country[T.Bahrain]                             -0.4134      9.922     -0.042      0.967     -19.918      19.092\n",
       "country[T.Barbados]                            -0.8527      9.922     -0.086      0.932     -20.358      18.652\n",
       "country[T.Belarus]                             18.0912      9.922      1.823      0.069      -1.414      37.596\n",
       "country[T.Belgium]                              6.0312      9.922      0.608      0.544     -13.474      25.536\n",
       "country[T.Belize]                               2.2073      9.922      0.222      0.824     -17.298      21.712\n",
       "country[T.Bosnia and Herzegovina]              -3.7371      9.922     -0.377      0.707     -23.242      15.768\n",
       "country[T.Brazil]                              -0.2132      9.922     -0.021      0.983     -19.718      19.292\n",
       "country[T.Bulgaria]                            -5.1918      9.922     -0.523      0.601     -24.697      14.313\n",
       "country[T.Cabo Verde]                           3.5468      9.922      0.357      0.721     -15.958      23.052\n",
       "country[T.Canada]                               9.2917      9.922      0.937      0.350     -10.213      28.797\n",
       "country[T.Chile]                                4.4980      9.922      0.453      0.651     -15.007      24.003\n",
       "country[T.Colombia]                             1.7658      9.922      0.178      0.859     -17.739      21.271\n",
       "country[T.Costa Rica]                           3.5158      9.922      0.354      0.723     -15.989      23.021\n",
       "country[T.Croatia]                             -1.4016      9.922     -0.141      0.888     -20.907      18.103\n",
       "country[T.Cuba]                                -2.7051      9.922     -0.273      0.785     -22.210      16.800\n",
       "country[T.Cyprus]                              -0.3025      9.922     -0.030      0.976     -19.808      19.203\n",
       "country[T.Czech Republic]                       1.6148      9.922      0.163      0.871     -17.890      21.120\n",
       "country[T.Denmark]                              0.0163      9.922      0.002      0.999     -19.489      19.521\n",
       "country[T.Dominica]                            -3.7901      9.922     -0.382      0.703     -23.295      15.715\n",
       "country[T.Ecuador]                              4.2735      9.922      0.431      0.667     -15.232      23.779\n",
       "country[T.El Salvador]                         10.4777      9.922      1.056      0.292      -9.027      29.983\n",
       "country[T.Estonia]                             10.8111      9.922      1.090      0.277      -8.694      30.316\n",
       "country[T.Fiji]                                -0.8400      9.922     -0.085      0.933     -20.345      18.665\n",
       "country[T.Finland]                             17.7672      9.922      1.791      0.074      -1.738      37.272\n",
       "country[T.France]                               1.9475      9.922      0.196      0.844     -17.558      21.452\n",
       "country[T.Georgia]                             -2.5470      9.922     -0.257      0.798     -22.052      16.958\n",
       "country[T.Germany]                             -0.7858      9.922     -0.079      0.937     -20.291      18.719\n",
       "country[T.Greece]                              -1.9022      9.922     -0.192      0.848     -21.407      17.603\n",
       "country[T.Grenada]                             -2.4086      9.922     -0.243      0.808     -21.914      17.096\n",
       "country[T.Guatemala]                           -0.2609      9.922     -0.026      0.979     -19.766      19.244\n",
       "country[T.Guyana]                              22.0765      9.922      2.225      0.027       2.571      41.582\n",
       "country[T.Hungary]                              0.6397      9.922      0.064      0.949     -18.865      20.145\n",
       "country[T.Iceland]                             10.0569      9.922      1.014      0.311      -9.448      29.562\n",
       "country[T.Ireland]                             10.4785      9.922      1.056      0.292      -9.027      29.984\n",
       "country[T.Israel]                              -0.9478      9.922     -0.096      0.924     -20.453      18.557\n",
       "country[T.Italy]                               -2.2910      9.922     -0.231      0.818     -21.796      17.214\n",
       "country[T.Jamaica]                             -3.4126      9.922     -0.344      0.731     -22.918      16.092\n",
       "country[T.Japan]                                5.7600      9.922      0.581      0.562     -13.745      25.265\n",
       "country[T.Kazakhstan]                          22.5236      9.922      2.270      0.024       3.019      42.029\n",
       "country[T.Kiribati]                             8.6301      9.922      0.870      0.385     -10.875      28.135\n",
       "country[T.Kuwait]                              -1.5556      9.922     -0.157      0.875     -21.061      17.949\n",
       "country[T.Kyrgyzstan]                           6.8975      9.922      0.695      0.487     -12.608      26.402\n",
       "country[T.Latvia]                              12.3172      9.922      1.241      0.215      -7.188      31.822\n",
       "country[T.Lithuania]                           26.8020      9.922      2.701      0.007       7.297      46.307\n",
       "country[T.Luxembourg]                           2.5264      9.922      0.255      0.799     -16.979      22.031\n",
       "country[T.Macau]                               -7.2784      9.922     -0.734      0.464     -26.783      12.227\n",
       "country[T.Maldives]                            -3.7367      9.922     -0.377      0.707     -23.242      15.768\n",
       "country[T.Malta]                                0.6019      9.922      0.061      0.952     -18.903      20.107\n",
       "country[T.Mauritius]                           10.9187      9.922      1.100      0.272      -8.586      30.424\n",
       "country[T.Mexico]                               0.3616      9.922      0.036      0.971     -19.143      19.867\n",
       "country[T.Montenegro]                          -4.2092      9.922     -0.424      0.672     -23.714      15.296\n",
       "country[T.Netherlands]                          2.3495      9.922      0.237      0.813     -17.156      21.854\n",
       "country[T.New Zealand]                         14.1527      9.922      1.426      0.155      -5.352      33.658\n",
       "country[T.Nicaragua]                            4.8709      9.922      0.491      0.624     -14.634      24.376\n",
       "country[T.Norway]                               8.9956      9.922      0.907      0.365     -10.509      28.501\n",
       "country[T.Oman]                                -3.9978      9.922     -0.403      0.687     -23.503      15.507\n",
       "country[T.Panama]                               1.2704      9.922      0.128      0.898     -18.235      20.775\n",
       "country[T.Paraguay]                             0.4288      9.922      0.043      0.966     -19.076      19.934\n",
       "country[T.Philippines]                         -1.5802      9.922     -0.159      0.874     -21.085      17.925\n",
       "country[T.Poland]                               8.4830      9.922      0.855      0.393     -11.022      27.988\n",
       "country[T.Portugal]                            -4.2340      9.922     -0.427      0.670     -23.739      15.271\n",
       "country[T.Puerto Rico]                          1.4559      9.922      0.147      0.883     -18.049      20.961\n",
       "country[T.Qatar]                               -1.6113      9.922     -0.162      0.871     -21.116      17.894\n",
       "country[T.Republic of Korea]                   -1.5467      9.922     -0.156      0.876     -21.052      17.958\n",
       "country[T.Romania]                              3.1865      9.922      0.321      0.748     -16.319      22.692\n",
       "country[T.Russian Federation]                  22.3390      9.922      2.252      0.025       2.834      41.844\n",
       "country[T.Saint Kitts and Nevis]               -3.7901      9.922     -0.382      0.703     -23.295      15.715\n",
       "country[T.Saint Lucia]                          1.7803      9.922      0.179      0.858     -17.725      21.285\n",
       "country[T.Saint Vincent and Grenadines]         1.1949      9.922      0.120      0.904     -18.310      20.700\n",
       "country[T.San Marino]                          -0.3791      9.922     -0.038      0.970     -19.884      19.126\n",
       "country[T.Serbia]                              -5.8430      9.922     -0.589      0.556     -25.348      13.662\n",
       "country[T.Seychelles]                           2.4219      9.922      0.244      0.807     -17.083      21.927\n",
       "country[T.Singapore]                           -4.3616      9.922     -0.440      0.660     -23.867      15.143\n",
       "country[T.Slovakia]                             2.6115      9.922      0.263      0.793     -16.894      22.117\n",
       "country[T.Slovenia]                             3.3633      9.922      0.339      0.735     -16.142      22.868\n",
       "country[T.South Africa]                        -2.8587      9.922     -0.288      0.773     -22.364      16.646\n",
       "country[T.Spain]                               -2.4631      9.922     -0.248      0.804     -21.968      17.042\n",
       "country[T.Sri Lanka]                           27.1731      9.922      2.739      0.006       7.668      46.678\n",
       "country[T.Suriname]                            14.1070      9.922      1.422      0.156      -5.398      33.612\n",
       "country[T.Sweden]                               5.2236      9.922      0.526      0.599     -14.281      24.729\n",
       "country[T.Switzerland]                          1.1778      9.922      0.119      0.906     -18.327      20.683\n",
       "country[T.Thailand]                             3.8760      9.922      0.391      0.696     -15.629      23.381\n",
       "country[T.Trinidad and Tobago]                 10.3609      9.922      1.044      0.297      -9.144      29.866\n",
       "country[T.Turkey]                              -1.9145      9.922     -0.193      0.847     -21.419      17.591\n",
       "country[T.Turkmenistan]                         6.0753      9.922      0.612      0.541     -13.430      25.580\n",
       "country[T.Ukraine]                             10.5470      9.922      1.063      0.288      -8.958      30.052\n",
       "country[T.United Arab Emirates]                -2.1101      9.922     -0.213      0.832     -21.615      17.395\n",
       "country[T.United Kingdom]                       3.3912      9.922      0.342      0.733     -16.114      22.896\n",
       "country[T.United States]                        5.9803      9.922      0.603      0.547     -13.525      25.485\n",
       "country[T.Uruguay]                              2.6167      9.922      0.264      0.792     -16.888      22.122\n",
       "country[T.Uzbekistan]                           5.1062      9.922      0.515      0.607     -14.399      24.611\n",
       "age                                            -0.1149      2.317     -0.050      0.960      -4.670       4.441\n",
       "country[T.Antigua and Barbuda]:age              0.2174      3.277      0.066      0.947      -6.225       6.660\n",
       "country[T.Argentina]:age                        2.4834      3.277      0.758      0.449      -3.959       8.926\n",
       "country[T.Armenia]:age                          1.1672      3.277      0.356      0.722      -5.275       7.609\n",
       "country[T.Aruba]:age                            1.8415      3.277      0.562      0.574      -4.601       8.284\n",
       "country[T.Australia]:age                       -0.0204      3.277     -0.006      0.995      -6.463       6.422\n",
       "country[T.Austria]:age                          7.5038      3.277      2.290      0.023       1.061      13.946\n",
       "country[T.Azerbaijan]:age                       0.3960      3.277      0.121      0.904      -6.046       6.838\n",
       "country[T.Bahamas]:age                         -0.1000      3.277     -0.031      0.976      -6.542       6.342\n",
       "country[T.Bahrain]:age                         -0.4942      3.277     -0.151      0.880      -6.936       5.948\n",
       "country[T.Barbados]:age                         0.1281      3.277      0.039      0.969      -6.314       6.570\n",
       "country[T.Belarus]:age                          3.7927      3.277      1.157      0.248      -2.650      10.235\n",
       "country[T.Belgium]:age                          4.6815      3.277      1.429      0.154      -1.761      11.124\n",
       "country[T.Belize]:age                           0.2082      3.277      0.064      0.949      -6.234       6.650\n",
       "country[T.Bosnia and Herzegovina]:age           1.9405      3.277      0.592      0.554      -4.502       8.383\n",
       "country[T.Brazil]:age                           1.0225      3.277      0.312      0.755      -5.420       7.465\n",
       "country[T.Bulgaria]:age                         8.4712      3.277      2.585      0.010       2.029      14.914\n",
       "country[T.Cabo Verde]:age                       1.6415      3.277      0.501      0.617      -4.801       8.084\n",
       "country[T.Canada]:age                          -0.1308      3.277     -0.040      0.968      -6.573       6.311\n",
       "country[T.Chile]:age                            1.0165      3.277      0.310      0.757      -5.426       7.459\n",
       "country[T.Colombia]:age                         0.0532      3.277      0.016      0.987      -6.389       6.495\n",
       "country[T.Costa Rica]:age                       0.0300      3.277      0.009      0.993      -6.412       6.472\n",
       "country[T.Croatia]:age                          8.3171      3.277      2.538      0.012       1.875      14.759\n",
       "country[T.Cuba]:age                             8.1697      3.277      2.493      0.013       1.727      14.612\n",
       "country[T.Cyprus]:age                           0.0034      3.277      0.001      0.999      -6.439       6.446\n",
       "country[T.Czech Republic]:age                   5.3776      3.277      1.641      0.102      -1.065      11.820\n",
       "country[T.Denmark]:age                          4.2312      3.277      1.291      0.197      -2.211      10.673\n",
       "country[T.Dominica]:age                         0.1149      3.277      0.035      0.972      -6.327       6.557\n",
       "country[T.Ecuador]:age                         -0.5888      3.277     -0.180      0.857      -7.031       5.853\n",
       "country[T.El Salvador]:age                     -1.3757      3.277     -0.420      0.675      -7.818       5.067\n",
       "country[T.Estonia]:age                          5.1852      3.277      1.582      0.114      -1.257      11.627\n",
       "country[T.Fiji]:age                             0.9769      3.277      0.298      0.766      -5.465       7.419\n",
       "country[T.Finland]:age                          0.6001      3.277      0.183      0.855      -5.842       7.042\n",
       "country[T.France]:age                           6.4901      3.277      1.981      0.048       0.048      12.932\n",
       "country[T.Georgia]:age                          1.3091      3.277      0.399      0.690      -5.133       7.751\n",
       "country[T.Germany]:age                          5.1371      3.277      1.568      0.118      -1.305      11.579\n",
       "country[T.Greece]:age                           0.9857      3.277      0.301      0.764      -5.457       7.428\n",
       "country[T.Grenada]:age                          0.4436      3.277      0.135      0.892      -5.999       6.886\n",
       "country[T.Guatemala]:age                       -0.0227      3.277     -0.007      0.994      -6.465       6.420\n",
       "country[T.Guyana]:age                          -1.3572      3.277     -0.414      0.679      -7.799       5.085\n",
       "country[T.Hungary]:age                         11.5626      3.277      3.528      0.000       5.120      18.005\n",
       "country[T.Iceland]:age                         -0.3146      3.277     -0.096      0.924      -6.757       6.128\n",
       "country[T.Ireland]:age                         -1.2795      3.277     -0.390      0.696      -7.722       5.163\n",
       "country[T.Israel]:age                           2.5586      3.277      0.781      0.435      -3.884       9.001\n",
       "country[T.Italy]:age                            2.9226      3.277      0.892      0.373      -3.520       9.365\n",
       "country[T.Jamaica]:age                          0.1726      3.277      0.053      0.958      -6.270       6.615\n",
       "country[T.Japan]:age                            4.9241      3.277      1.503      0.134      -1.518      11.366\n",
       "country[T.Kazakhstan]:age                       1.7939      3.277      0.547      0.584      -4.648       8.236\n",
       "country[T.Kiribati]:age                        -2.1911      3.277     -0.669      0.504      -8.633       4.251\n",
       "country[T.Kuwait]:age                          -0.3043      3.277     -0.093      0.926      -6.747       6.138\n",
       "country[T.Kyrgyzstan]:age                       1.5544      3.277      0.474      0.636      -4.888       7.997\n",
       "country[T.Latvia]:age                           5.3757      3.277      1.640      0.102      -1.067      11.818\n",
       "country[T.Lithuania]:age                        4.1116      3.277      1.255      0.210      -2.331      10.554\n",
       "country[T.Luxembourg]:age                       4.2082      3.277      1.284      0.200      -2.234      10.651\n",
       "country[T.Macau]:age                            7.2349      3.277      2.208      0.028       0.793      13.677\n",
       "country[T.Maldives]:age                         0.6405      3.277      0.195      0.845      -5.802       7.083\n",
       "country[T.Malta]:age                            0.3710      3.277      0.113      0.910      -6.071       6.813\n",
       "country[T.Mauritius]:age                       -1.0748      3.277     -0.328      0.743      -7.517       5.368\n",
       "country[T.Mexico]:age                           0.3372      3.277      0.103      0.918      -6.105       6.779\n",
       "country[T.Montenegro]:age                       4.2626      3.277      1.301      0.194      -2.180      10.705\n",
       "country[T.Netherlands]:age                      1.8947      3.277      0.578      0.563      -4.548       8.337\n",
       "country[T.New Zealand]:age                     -1.3056      3.277     -0.398      0.691      -7.748       5.137\n",
       "country[T.Nicaragua]:age                       -0.7227      3.277     -0.221      0.826      -7.165       5.720\n",
       "country[T.Norway]:age                           0.1770      3.277      0.054      0.957      -6.265       6.619\n",
       "country[T.Oman]:age                             0.4924      3.277      0.150      0.881      -5.950       6.935\n",
       "country[T.Panama]:age                           0.4161      3.277      0.127      0.899      -6.026       6.858\n",
       "country[T.Paraguay]:age                         0.1142      3.277      0.035      0.972      -6.328       6.557\n",
       "country[T.Philippines]:age                      0.1994      3.277      0.061      0.951      -6.243       6.642\n",
       "country[T.Poland]:age                           1.3134      3.277      0.401      0.689      -5.129       7.756\n",
       "country[T.Portugal]:age                         4.8275      3.277      1.473      0.142      -1.615      11.270\n",
       "country[T.Puerto Rico]:age                      2.0910      3.277      0.638      0.524      -4.351       8.533\n",
       "country[T.Qatar]:age                           -0.0382      3.277     -0.012      0.991      -6.481       6.404\n",
       "country[T.Republic of Korea]:age                9.2718      3.277      2.829      0.005       2.829      15.714\n",
       "country[T.Romania]:age                          2.3307      3.277      0.711      0.477      -4.112       8.773\n",
       "country[T.Russian Federation]:age               3.6202      3.277      1.105      0.270      -2.822      10.062\n",
       "country[T.Saint Kitts and Nevis]:age            0.1149      3.277      0.035      0.972      -6.327       6.557\n",
       "country[T.Saint Lucia]:age                      0.7678      3.277      0.234      0.815      -5.674       7.210\n",
       "country[T.Saint Vincent and Grenadines]:age     0.4231      3.277      0.129      0.897      -6.019       6.865\n",
       "country[T.San Marino]:age                       0.3685      3.277      0.112      0.911      -6.074       6.811\n",
       "country[T.Serbia]:age                           9.8017      3.277      2.991      0.003       3.359      16.244\n",
       "country[T.Seychelles]:age                       0.6221      3.277      0.190      0.850      -5.820       7.064\n",
       "country[T.Singapore]:age                        7.1618      3.277      2.185      0.029       0.719      13.604\n",
       "country[T.Slovakia]:age                         2.5818      3.277      0.788      0.431      -3.861       9.024\n",
       "country[T.Slovenia]:age                         8.3847      3.277      2.559      0.011       1.942      14.827\n",
       "country[T.South Africa]:age                     0.1281      3.277      0.039      0.969      -6.314       6.570\n",
       "country[T.Spain]:age                            3.3573      3.277      1.024      0.306      -3.085       9.800\n",
       "country[T.Sri Lanka]:age                        1.8477      3.277      0.564      0.573      -4.595       8.290\n",
       "country[T.Suriname]:age                         1.4826      3.277      0.452      0.651      -4.960       7.925\n",
       "country[T.Sweden]:age                           2.3817      3.277      0.727      0.468      -4.061       8.824\n",
       "country[T.Switzerland]:age                      5.7374      3.277      1.751      0.081      -0.705      12.180\n",
       "country[T.Thailand]:age                        -0.1301      3.277     -0.040      0.968      -6.572       6.312\n",
       "country[T.Trinidad and Tobago]:age             -0.0153      3.277     -0.005      0.996      -6.458       6.427\n",
       "country[T.Turkey]:age                           0.3131      3.277      0.096      0.924      -6.129       6.755\n",
       "country[T.Turkmenistan]:age                    -0.3890      3.277     -0.119      0.906      -6.831       6.053\n",
       "country[T.Ukraine]:age                          5.0130      3.277      1.530      0.127      -1.429      11.455\n",
       "country[T.United Arab Emirates]:age            -0.0300      3.277     -0.009      0.993      -6.472       6.412\n",
       "country[T.United Kingdom]:age                   0.2434      3.277      0.074      0.941      -6.199       6.686\n",
       "country[T.United States]:age                    1.7346      3.277      0.529      0.597      -4.708       8.177\n",
       "country[T.Uruguay]:age                          5.3366      3.277      1.629      0.104      -1.106      11.779\n",
       "country[T.Uzbekistan]:age                      -0.2040      3.277     -0.062      0.950      -6.646       6.238\n",
       "==============================================================================\n",
       "Omnibus:                      237.768   Durbin-Watson:                   0.913\n",
       "Prob(Omnibus):                  0.000   Jarque-Bera (JB):             1196.268\n",
       "Skew:                          -1.715   Prob(JB):                    1.71e-260\n",
       "Kurtosis:                       9.007   Cond. No.                         584.\n",
       "==============================================================================\n",
       "\n",
       "Notes:\n",
       "[1] Standard Errors assume that the covariance matrix of the errors is correctly specified.\n",
       "\"\"\""
      ]
     },
     "execution_count": 466,
     "metadata": {},
     "output_type": "execute_result"
    }
   ],
   "source": [
    "#Create new table with copy of data\n",
    "table2 = data.groupby(['age', 'country']).mean()\n",
    "table2 = table2.reset_index()\n",
    "#Get the suicide_rate associated with age and country\n",
    "temp2 = table2[['age', 'country', 'suicide_rate']]\n",
    "lt = preprocessing.LabelEncoder()\n",
    "lt.fit(table2['age'] )\n",
    "temp2['age'] = lt.transform(table2['age'])\n",
    "\n",
    "#Fit the second regression\n",
    "regression2 = ols(formula='suicide_rate ~ country + age + country * age' , data=temp2).fit()\n",
    "regression2.summary()"
   ]
  },
  {
   "cell_type": "markdown",
   "id": "01727995",
   "metadata": {},
   "source": [
    "The third linear regression requires not only age but it also accounts for sex that these suicide cases happened. Therefore, we predict that if we includes sex as another factor, then this linear regression model will be more accurate. \n",
    "Here is the result for the third regression:"
   ]
  },
  {
   "cell_type": "code",
   "execution_count": 467,
   "id": "7497972a",
   "metadata": {},
   "outputs": [
    {
     "data": {
      "text/html": [
       "<table class=\"simpletable\">\n",
       "<caption>OLS Regression Results</caption>\n",
       "<tr>\n",
       "  <th>Dep. Variable:</th>      <td>suicide_rate</td>   <th>  R-squared:         </th> <td>   0.580</td>\n",
       "</tr>\n",
       "<tr>\n",
       "  <th>Model:</th>                   <td>OLS</td>       <th>  Adj. R-squared:    </th> <td>   0.422</td>\n",
       "</tr>\n",
       "<tr>\n",
       "  <th>Method:</th>             <td>Least Squares</td>  <th>  F-statistic:       </th> <td>   3.675</td>\n",
       "</tr>\n",
       "<tr>\n",
       "  <th>Date:</th>             <td>Fri, 16 Dec 2022</td> <th>  Prob (F-statistic):</th>  <td>0.0626</td> \n",
       "</tr>\n",
       "<tr>\n",
       "  <th>Time:</th>                 <td>23:32:19</td>     <th>  Log-Likelihood:    </th> <td> -40.751</td>\n",
       "</tr>\n",
       "<tr>\n",
       "  <th>No. Observations:</th>      <td>    12</td>      <th>  AIC:               </th> <td>   89.50</td>\n",
       "</tr>\n",
       "<tr>\n",
       "  <th>Df Residuals:</th>          <td>     8</td>      <th>  BIC:               </th> <td>   91.44</td>\n",
       "</tr>\n",
       "<tr>\n",
       "  <th>Df Model:</th>              <td>     3</td>      <th>                     </th>     <td> </td>   \n",
       "</tr>\n",
       "<tr>\n",
       "  <th>Covariance Type:</th>      <td>nonrobust</td>    <th>                     </th>     <td> </td>   \n",
       "</tr>\n",
       "</table>\n",
       "<table class=\"simpletable\">\n",
       "<tr>\n",
       "         <td></td>            <th>coef</th>     <th>std err</th>      <th>t</th>      <th>P>|t|</th>  <th>[0.025</th>    <th>0.975]</th>  \n",
       "</tr>\n",
       "<tr>\n",
       "  <th>Intercept</th>       <td>    3.2397</td> <td>    6.401</td> <td>    0.506</td> <td> 0.626</td> <td>  -11.520</td> <td>   18.000</td>\n",
       "</tr>\n",
       "<tr>\n",
       "  <th>sex[T.male]</th>     <td>    8.7672</td> <td>    9.052</td> <td>    0.969</td> <td> 0.361</td> <td>  -12.107</td> <td>   29.641</td>\n",
       "</tr>\n",
       "<tr>\n",
       "  <th>age</th>             <td>    0.8626</td> <td>    2.114</td> <td>    0.408</td> <td> 0.694</td> <td>   -4.012</td> <td>    5.738</td>\n",
       "</tr>\n",
       "<tr>\n",
       "  <th>sex[T.male]:age</th> <td>    2.4262</td> <td>    2.990</td> <td>    0.812</td> <td> 0.441</td> <td>   -4.468</td> <td>    9.321</td>\n",
       "</tr>\n",
       "</table>\n",
       "<table class=\"simpletable\">\n",
       "<tr>\n",
       "  <th>Omnibus:</th>       <td>17.577</td> <th>  Durbin-Watson:     </th> <td>   1.494</td>\n",
       "</tr>\n",
       "<tr>\n",
       "  <th>Prob(Omnibus):</th> <td> 0.000</td> <th>  Jarque-Bera (JB):  </th> <td>  12.662</td>\n",
       "</tr>\n",
       "<tr>\n",
       "  <th>Skew:</th>          <td>-1.858</td> <th>  Prob(JB):          </th> <td> 0.00178</td>\n",
       "</tr>\n",
       "<tr>\n",
       "  <th>Kurtosis:</th>      <td> 6.392</td> <th>  Cond. No.          </th> <td>    15.1</td>\n",
       "</tr>\n",
       "</table><br/><br/>Notes:<br/>[1] Standard Errors assume that the covariance matrix of the errors is correctly specified."
      ],
      "text/plain": [
       "<class 'statsmodels.iolib.summary.Summary'>\n",
       "\"\"\"\n",
       "                            OLS Regression Results                            \n",
       "==============================================================================\n",
       "Dep. Variable:           suicide_rate   R-squared:                       0.580\n",
       "Model:                            OLS   Adj. R-squared:                  0.422\n",
       "Method:                 Least Squares   F-statistic:                     3.675\n",
       "Date:                Fri, 16 Dec 2022   Prob (F-statistic):             0.0626\n",
       "Time:                        23:32:19   Log-Likelihood:                -40.751\n",
       "No. Observations:                  12   AIC:                             89.50\n",
       "Df Residuals:                       8   BIC:                             91.44\n",
       "Df Model:                           3                                         \n",
       "Covariance Type:            nonrobust                                         \n",
       "===================================================================================\n",
       "                      coef    std err          t      P>|t|      [0.025      0.975]\n",
       "-----------------------------------------------------------------------------------\n",
       "Intercept           3.2397      6.401      0.506      0.626     -11.520      18.000\n",
       "sex[T.male]         8.7672      9.052      0.969      0.361     -12.107      29.641\n",
       "age                 0.8626      2.114      0.408      0.694      -4.012       5.738\n",
       "sex[T.male]:age     2.4262      2.990      0.812      0.441      -4.468       9.321\n",
       "==============================================================================\n",
       "Omnibus:                       17.577   Durbin-Watson:                   1.494\n",
       "Prob(Omnibus):                  0.000   Jarque-Bera (JB):               12.662\n",
       "Skew:                          -1.858   Prob(JB):                      0.00178\n",
       "Kurtosis:                       6.392   Cond. No.                         15.1\n",
       "==============================================================================\n",
       "\n",
       "Notes:\n",
       "[1] Standard Errors assume that the covariance matrix of the errors is correctly specified.\n",
       "\"\"\""
      ]
     },
     "execution_count": 467,
     "metadata": {},
     "output_type": "execute_result"
    }
   ],
   "source": [
    "#Create new table with copy of data\n",
    "table3 = data.groupby(['age', 'sex']).mean()\n",
    "table3 = table3.reset_index()\n",
    "\n",
    "#Get the suicide_rate associated with age and sex\n",
    "temp3 = table3[['age', 'sex', 'suicide_rate']]\n",
    "lt = preprocessing.LabelEncoder()\n",
    "lt.fit(table3['age'] )\n",
    "temp3['age'] = lt.transform(table3['age'])\n",
    "\n",
    "#Fit the third regression\n",
    "regression3 = ols(formula='suicide_rate ~ sex + age + sex * age', data=temp3).fit()\n",
    "regression3.summary()"
   ]
  },
  {
   "cell_type": "markdown",
   "id": "d220b2d4",
   "metadata": {},
   "source": [
    "The fourth linear regression requires not only age but it also accounts for gdp that these suicide cases happened. Therefore, we predict that if we includes gdp as another factor, then this linear regression model will be more accurate. \n",
    "Here is the result for the fourth regression:"
   ]
  },
  {
   "cell_type": "code",
   "execution_count": 468,
   "id": "00a85f54",
   "metadata": {},
   "outputs": [
    {
     "data": {
      "text/html": [
       "<table class=\"simpletable\">\n",
       "<caption>OLS Regression Results</caption>\n",
       "<tr>\n",
       "  <th>Dep. Variable:</th>      <td>suicide_rate</td>   <th>  R-squared:         </th> <td>   0.248</td>\n",
       "</tr>\n",
       "<tr>\n",
       "  <th>Model:</th>                   <td>OLS</td>       <th>  Adj. R-squared:    </th> <td>   0.060</td>\n",
       "</tr>\n",
       "<tr>\n",
       "  <th>Method:</th>             <td>Least Squares</td>  <th>  F-statistic:       </th> <td>   1.317</td>\n",
       "</tr>\n",
       "<tr>\n",
       "  <th>Date:</th>             <td>Fri, 16 Dec 2022</td> <th>  Prob (F-statistic):</th>  <td> 0.315</td> \n",
       "</tr>\n",
       "<tr>\n",
       "  <th>Time:</th>                 <td>23:32:20</td>     <th>  Log-Likelihood:    </th> <td> -19.439</td>\n",
       "</tr>\n",
       "<tr>\n",
       "  <th>No. Observations:</th>      <td>     6</td>      <th>  AIC:               </th> <td>   42.88</td>\n",
       "</tr>\n",
       "<tr>\n",
       "  <th>Df Residuals:</th>          <td>     4</td>      <th>  BIC:               </th> <td>   42.46</td>\n",
       "</tr>\n",
       "<tr>\n",
       "  <th>Df Model:</th>              <td>     1</td>      <th>                     </th>     <td> </td>   \n",
       "</tr>\n",
       "<tr>\n",
       "  <th>Covariance Type:</th>      <td>nonrobust</td>    <th>                     </th>     <td> </td>   \n",
       "</tr>\n",
       "</table>\n",
       "<table class=\"simpletable\">\n",
       "<tr>\n",
       "          <td></td>            <th>coef</th>     <th>std err</th>      <th>t</th>      <th>P>|t|</th>  <th>[0.025</th>    <th>0.975]</th>  \n",
       "</tr>\n",
       "<tr>\n",
       "  <th>Intercept</th>        <td> 3.814e-23</td> <td> 2.74e-23</td> <td>    1.392</td> <td> 0.236</td> <td>-3.79e-23</td> <td> 1.14e-22</td>\n",
       "</tr>\n",
       "<tr>\n",
       "  <th>gdp_per_year</th>     <td> 1.705e-11</td> <td> 1.22e-11</td> <td>    1.392</td> <td> 0.236</td> <td> -1.7e-11</td> <td> 5.11e-11</td>\n",
       "</tr>\n",
       "<tr>\n",
       "  <th>age</th>              <td> 1.038e-23</td> <td> 9.05e-24</td> <td>    1.148</td> <td> 0.315</td> <td>-1.47e-23</td> <td> 3.55e-23</td>\n",
       "</tr>\n",
       "<tr>\n",
       "  <th>gdp_per_year:age</th> <td> 4.643e-12</td> <td> 4.05e-12</td> <td>    1.148</td> <td> 0.315</td> <td>-6.59e-12</td> <td> 1.59e-11</td>\n",
       "</tr>\n",
       "</table>\n",
       "<table class=\"simpletable\">\n",
       "<tr>\n",
       "  <th>Omnibus:</th>       <td>   nan</td> <th>  Durbin-Watson:     </th> <td>   2.121</td>\n",
       "</tr>\n",
       "<tr>\n",
       "  <th>Prob(Omnibus):</th> <td>   nan</td> <th>  Jarque-Bera (JB):  </th> <td>   2.217</td>\n",
       "</tr>\n",
       "<tr>\n",
       "  <th>Skew:</th>          <td>-1.451</td> <th>  Prob(JB):          </th> <td>   0.330</td>\n",
       "</tr>\n",
       "<tr>\n",
       "  <th>Kurtosis:</th>      <td> 3.669</td> <th>  Cond. No.          </th> <td>2.67e+28</td>\n",
       "</tr>\n",
       "</table><br/><br/>Notes:<br/>[1] Standard Errors assume that the covariance matrix of the errors is correctly specified.<br/>[2] The smallest eigenvalue is 1.66e-32. This might indicate that there are<br/>strong multicollinearity problems or that the design matrix is singular."
      ],
      "text/plain": [
       "<class 'statsmodels.iolib.summary.Summary'>\n",
       "\"\"\"\n",
       "                            OLS Regression Results                            \n",
       "==============================================================================\n",
       "Dep. Variable:           suicide_rate   R-squared:                       0.248\n",
       "Model:                            OLS   Adj. R-squared:                  0.060\n",
       "Method:                 Least Squares   F-statistic:                     1.317\n",
       "Date:                Fri, 16 Dec 2022   Prob (F-statistic):              0.315\n",
       "Time:                        23:32:20   Log-Likelihood:                -19.439\n",
       "No. Observations:                   6   AIC:                             42.88\n",
       "Df Residuals:                       4   BIC:                             42.46\n",
       "Df Model:                           1                                         \n",
       "Covariance Type:            nonrobust                                         \n",
       "====================================================================================\n",
       "                       coef    std err          t      P>|t|      [0.025      0.975]\n",
       "------------------------------------------------------------------------------------\n",
       "Intercept         3.814e-23   2.74e-23      1.392      0.236   -3.79e-23    1.14e-22\n",
       "gdp_per_year      1.705e-11   1.22e-11      1.392      0.236    -1.7e-11    5.11e-11\n",
       "age               1.038e-23   9.05e-24      1.148      0.315   -1.47e-23    3.55e-23\n",
       "gdp_per_year:age  4.643e-12   4.05e-12      1.148      0.315   -6.59e-12    1.59e-11\n",
       "==============================================================================\n",
       "Omnibus:                          nan   Durbin-Watson:                   2.121\n",
       "Prob(Omnibus):                    nan   Jarque-Bera (JB):                2.217\n",
       "Skew:                          -1.451   Prob(JB):                        0.330\n",
       "Kurtosis:                       3.669   Cond. No.                     2.67e+28\n",
       "==============================================================================\n",
       "\n",
       "Notes:\n",
       "[1] Standard Errors assume that the covariance matrix of the errors is correctly specified.\n",
       "[2] The smallest eigenvalue is 1.66e-32. This might indicate that there are\n",
       "strong multicollinearity problems or that the design matrix is singular.\n",
       "\"\"\""
      ]
     },
     "execution_count": 468,
     "metadata": {},
     "output_type": "execute_result"
    }
   ],
   "source": [
    "#Create new table with copy of data\n",
    "table4 = data.groupby(['age']).mean()\n",
    "\n",
    "table4 = table4.reset_index()\n",
    "\n",
    "#Get the suicide rate associated with age and gdp\n",
    "temp4 = table4[['age', 'gdp_per_year', 'suicide_rate']]\n",
    "lt = preprocessing.LabelEncoder()\n",
    "lt.fit(table4['age'] )\n",
    "temp4['age'] = lt.transform(table4['age'])\n",
    "\n",
    "#Fit the fourth regression\n",
    "regression4 = ols(formula='suicide_rate ~ gdp_per_year + age + gdp_per_year * age', data=temp4).fit()\n",
    "regression4.summary()"
   ]
  },
  {
   "cell_type": "markdown",
   "id": "e14ac9d3",
   "metadata": {},
   "source": [
    "### 3.3 Hypothesis Testing\n",
    "In order to verify our hypothesis, we wwill use f-test to check if is valid. The purpose of this test is to verify our linear regression models fit the data well. If audience want to understand f-test, the link can be found at https://explorable.com/f-test. In addition, we will use ANOVA table to test the final result. How to use and syntax for this technique can be found at: http://www.statsmodels.org/stable/anova.html."
   ]
  },
  {
   "cell_type": "code",
   "execution_count": 469,
   "id": "fad47380",
   "metadata": {},
   "outputs": [
    {
     "data": {
      "text/html": [
       "<div>\n",
       "<style scoped>\n",
       "    .dataframe tbody tr th:only-of-type {\n",
       "        vertical-align: middle;\n",
       "    }\n",
       "\n",
       "    .dataframe tbody tr th {\n",
       "        vertical-align: top;\n",
       "    }\n",
       "\n",
       "    .dataframe thead th {\n",
       "        text-align: right;\n",
       "    }\n",
       "</style>\n",
       "<table border=\"1\" class=\"dataframe\">\n",
       "  <thead>\n",
       "    <tr style=\"text-align: right;\">\n",
       "      <th></th>\n",
       "      <th>sum_sq</th>\n",
       "      <th>df</th>\n",
       "      <th>F</th>\n",
       "      <th>PR(&gt;F)</th>\n",
       "    </tr>\n",
       "  </thead>\n",
       "  <tbody>\n",
       "    <tr>\n",
       "      <th>age</th>\n",
       "      <td>7.907297</td>\n",
       "      <td>1.0</td>\n",
       "      <td>57.783616</td>\n",
       "      <td>0.001607</td>\n",
       "    </tr>\n",
       "    <tr>\n",
       "      <th>Residual</th>\n",
       "      <td>0.547373</td>\n",
       "      <td>4.0</td>\n",
       "      <td>NaN</td>\n",
       "      <td>NaN</td>\n",
       "    </tr>\n",
       "  </tbody>\n",
       "</table>\n",
       "</div>"
      ],
      "text/plain": [
       "            sum_sq   df          F    PR(>F)\n",
       "age       7.907297  1.0  57.783616  0.001607\n",
       "Residual  0.547373  4.0        NaN       NaN"
      ]
     },
     "execution_count": 469,
     "metadata": {},
     "output_type": "execute_result"
    }
   ],
   "source": [
    "#Run ANOVA\n",
    "result = sm.stats.anova_lm(regression, typ=2)\n",
    "result"
   ]
  },
  {
   "cell_type": "code",
   "execution_count": 470,
   "id": "6ed528ff",
   "metadata": {},
   "outputs": [
    {
     "data": {
      "text/html": [
       "<div>\n",
       "<style scoped>\n",
       "    .dataframe tbody tr th:only-of-type {\n",
       "        vertical-align: middle;\n",
       "    }\n",
       "\n",
       "    .dataframe tbody tr th {\n",
       "        vertical-align: top;\n",
       "    }\n",
       "\n",
       "    .dataframe thead th {\n",
       "        text-align: right;\n",
       "    }\n",
       "</style>\n",
       "<table border=\"1\" class=\"dataframe\">\n",
       "  <thead>\n",
       "    <tr style=\"text-align: right;\">\n",
       "      <th></th>\n",
       "      <th>sum_sq</th>\n",
       "      <th>df</th>\n",
       "      <th>F</th>\n",
       "      <th>PR(&gt;F)</th>\n",
       "    </tr>\n",
       "  </thead>\n",
       "  <tbody>\n",
       "    <tr>\n",
       "      <th>country</th>\n",
       "      <td>52188.092029</td>\n",
       "      <td>99.0</td>\n",
       "      <td>5.610159</td>\n",
       "      <td>1.287909e-35</td>\n",
       "    </tr>\n",
       "    <tr>\n",
       "      <th>age</th>\n",
       "      <td>6787.459665</td>\n",
       "      <td>1.0</td>\n",
       "      <td>72.234753</td>\n",
       "      <td>3.827928e-16</td>\n",
       "    </tr>\n",
       "    <tr>\n",
       "      <th>country:age</th>\n",
       "      <td>14627.796242</td>\n",
       "      <td>99.0</td>\n",
       "      <td>1.572471</td>\n",
       "      <td>1.322704e-03</td>\n",
       "    </tr>\n",
       "    <tr>\n",
       "      <th>Residual</th>\n",
       "      <td>37585.563292</td>\n",
       "      <td>400.0</td>\n",
       "      <td>NaN</td>\n",
       "      <td>NaN</td>\n",
       "    </tr>\n",
       "  </tbody>\n",
       "</table>\n",
       "</div>"
      ],
      "text/plain": [
       "                   sum_sq     df          F        PR(>F)\n",
       "country      52188.092029   99.0   5.610159  1.287909e-35\n",
       "age           6787.459665    1.0  72.234753  3.827928e-16\n",
       "country:age  14627.796242   99.0   1.572471  1.322704e-03\n",
       "Residual     37585.563292  400.0        NaN           NaN"
      ]
     },
     "execution_count": 470,
     "metadata": {},
     "output_type": "execute_result"
    }
   ],
   "source": [
    "#Run ANOVA\n",
    "result2 = sm.stats.anova_lm(regression2, typ=2)\n",
    "result2"
   ]
  },
  {
   "cell_type": "code",
   "execution_count": 471,
   "id": "740a92bf",
   "metadata": {},
   "outputs": [
    {
     "data": {
      "text/html": [
       "<div>\n",
       "<style scoped>\n",
       "    .dataframe tbody tr th:only-of-type {\n",
       "        vertical-align: middle;\n",
       "    }\n",
       "\n",
       "    .dataframe tbody tr th {\n",
       "        vertical-align: top;\n",
       "    }\n",
       "\n",
       "    .dataframe thead th {\n",
       "        text-align: right;\n",
       "    }\n",
       "</style>\n",
       "<table border=\"1\" class=\"dataframe\">\n",
       "  <thead>\n",
       "    <tr style=\"text-align: right;\">\n",
       "      <th></th>\n",
       "      <th>sum_sq</th>\n",
       "      <th>df</th>\n",
       "      <th>F</th>\n",
       "      <th>PR(&gt;F)</th>\n",
       "    </tr>\n",
       "  </thead>\n",
       "  <tbody>\n",
       "    <tr>\n",
       "      <th>sex</th>\n",
       "      <td>660.037515</td>\n",
       "      <td>1.0</td>\n",
       "      <td>8.438967</td>\n",
       "      <td>0.019740</td>\n",
       "    </tr>\n",
       "    <tr>\n",
       "      <th>age</th>\n",
       "      <td>150.800697</td>\n",
       "      <td>1.0</td>\n",
       "      <td>1.928075</td>\n",
       "      <td>0.202406</td>\n",
       "    </tr>\n",
       "    <tr>\n",
       "      <th>sex:age</th>\n",
       "      <td>51.508509</td>\n",
       "      <td>1.0</td>\n",
       "      <td>0.658567</td>\n",
       "      <td>0.440541</td>\n",
       "    </tr>\n",
       "    <tr>\n",
       "      <th>Residual</th>\n",
       "      <td>625.704549</td>\n",
       "      <td>8.0</td>\n",
       "      <td>NaN</td>\n",
       "      <td>NaN</td>\n",
       "    </tr>\n",
       "  </tbody>\n",
       "</table>\n",
       "</div>"
      ],
      "text/plain": [
       "              sum_sq   df         F    PR(>F)\n",
       "sex       660.037515  1.0  8.438967  0.019740\n",
       "age       150.800697  1.0  1.928075  0.202406\n",
       "sex:age    51.508509  1.0  0.658567  0.440541\n",
       "Residual  625.704549  8.0       NaN       NaN"
      ]
     },
     "execution_count": 471,
     "metadata": {},
     "output_type": "execute_result"
    }
   ],
   "source": [
    "#Run ANOVA\n",
    "result3 = sm.stats.anova_lm(regression3, typ=2)\n",
    "result3"
   ]
  },
  {
   "cell_type": "code",
   "execution_count": 472,
   "id": "59a5d8a2",
   "metadata": {},
   "outputs": [
    {
     "data": {
      "text/html": [
       "<div>\n",
       "<style scoped>\n",
       "    .dataframe tbody tr th:only-of-type {\n",
       "        vertical-align: middle;\n",
       "    }\n",
       "\n",
       "    .dataframe tbody tr th {\n",
       "        vertical-align: top;\n",
       "    }\n",
       "\n",
       "    .dataframe thead th {\n",
       "        text-align: right;\n",
       "    }\n",
       "</style>\n",
       "<table border=\"1\" class=\"dataframe\">\n",
       "  <thead>\n",
       "    <tr style=\"text-align: right;\">\n",
       "      <th></th>\n",
       "      <th>sum_sq</th>\n",
       "      <th>df</th>\n",
       "      <th>F</th>\n",
       "      <th>PR(&gt;F)</th>\n",
       "    </tr>\n",
       "  </thead>\n",
       "  <tbody>\n",
       "    <tr>\n",
       "      <th>gdp_per_year</th>\n",
       "      <td>984.975890</td>\n",
       "      <td>1.0</td>\n",
       "      <td>17.207240</td>\n",
       "      <td>0.014282</td>\n",
       "    </tr>\n",
       "    <tr>\n",
       "      <th>age</th>\n",
       "      <td>228.615831</td>\n",
       "      <td>1.0</td>\n",
       "      <td>3.993851</td>\n",
       "      <td>0.116321</td>\n",
       "    </tr>\n",
       "    <tr>\n",
       "      <th>gdp_per_year:age</th>\n",
       "      <td>75.400348</td>\n",
       "      <td>1.0</td>\n",
       "      <td>1.317222</td>\n",
       "      <td>0.315066</td>\n",
       "    </tr>\n",
       "    <tr>\n",
       "      <th>Residual</th>\n",
       "      <td>228.967783</td>\n",
       "      <td>4.0</td>\n",
       "      <td>NaN</td>\n",
       "      <td>NaN</td>\n",
       "    </tr>\n",
       "  </tbody>\n",
       "</table>\n",
       "</div>"
      ],
      "text/plain": [
       "                      sum_sq   df          F    PR(>F)\n",
       "gdp_per_year      984.975890  1.0  17.207240  0.014282\n",
       "age               228.615831  1.0   3.993851  0.116321\n",
       "gdp_per_year:age   75.400348  1.0   1.317222  0.315066\n",
       "Residual          228.967783  4.0        NaN       NaN"
      ]
     },
     "execution_count": 472,
     "metadata": {},
     "output_type": "execute_result"
    }
   ],
   "source": [
    "#Run ANOVA\n",
    "result4 = sm.stats.anova_lm(regression4, typ=2)\n",
    "result4"
   ]
  },
  {
   "cell_type": "markdown",
   "id": "ef22cb6b",
   "metadata": {},
   "source": [
    "Based on our f-test information of the five linear regression models, when you take a look at the PR(>F) column of the test data, the regression mdoel that takes both age and country as factors has a really small value for that column compared to rest regression model. Therefore the model that takes both age and country as a factor will provide us with the most accurate predictions."
   ]
  },
  {
   "cell_type": "markdown",
   "id": "f98b8e3f",
   "metadata": {},
   "source": [
    "# Conlusion\n",
    "After analyzing data from different charts and graph, we find the cause behind suicide is a very complicated. There are many factors that affects suicide rate.\n",
    "Country and age plays an important role: people who live on certain country and older people tend to suicide more often.\n",
    "Gender also seems to affect suicide rate greatly. Male have great higher rate to suicide compare to female.\n",
    "Economic situations also appear have weak relationship between gdp and suicide rate becuase it have very low r values.\n",
    "\n",
    "Because the reasons behind suicides are complicated, we believe policy makers should analyze the problem carefully and treat this problem differently based on different factors,for example, for countries have lots of aging popution and high suicides rate, maybe there should be government take care them to decrease the suicide rate.\n",
    "\n",
    "The dataset that we used contains a lot of information beside the factor I list. We encourage readers to spend more time to play with other information found in the dataset."
   ]
  },
  {
   "cell_type": "code",
   "execution_count": null,
   "id": "7c6e3d2c",
   "metadata": {},
   "outputs": [],
   "source": []
  }
 ],
 "metadata": {
  "kernelspec": {
   "display_name": "Python 3 (ipykernel)",
   "language": "python",
   "name": "python3"
  },
  "language_info": {
   "codemirror_mode": {
    "name": "ipython",
    "version": 3
   },
   "file_extension": ".py",
   "mimetype": "text/x-python",
   "name": "python",
   "nbconvert_exporter": "python",
   "pygments_lexer": "ipython3",
   "version": "3.9.12"
  }
 },
 "nbformat": 4,
 "nbformat_minor": 5
}
